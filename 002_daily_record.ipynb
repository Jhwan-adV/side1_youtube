{
 "cells": [
  {
   "attachments": {},
   "cell_type": "markdown",
   "metadata": {},
   "source": [
    "### [1] Module, Variables"
   ]
  },
  {
   "cell_type": "code",
   "execution_count": 1,
   "metadata": {},
   "outputs": [],
   "source": [
    "import time\n",
    "from datetime import datetime\n",
    "\n",
    "from selenium.webdriver.common.keys import Keys\n",
    "from selenium.common.exceptions import WebDriverException\n",
    "from selenium.webdriver.remote.webdriver import By\n",
    "from selenium import webdriver\n",
    "from selenium.webdriver.support.wait import WebDriverWait\n",
    "import selenium.webdriver.support.expected_conditions as EC  # noqa\n",
    "\n",
    "import undetected_chromedriver as uc\n",
    "\n",
    "from bs4 import BeautifulSoup\n"
   ]
  },
  {
   "cell_type": "code",
   "execution_count": 77,
   "metadata": {},
   "outputs": [],
   "source": [
    "# Account Variables\n",
    "\n",
    "info = open('secure/id_pw.txt').readlines()\n",
    "\n",
    "account_1 = info[0].split(' ')[1].rstrip('\\n')\n",
    "password_1 = info[1].split(' ')[1].rstrip('\\n')\n",
    "\n",
    "account_2 = info[2].split(' ')[1].rstrip('\\n')\n",
    "password_2 = info[3].split(' ')[1].rstrip('\\n')\n",
    "\n",
    "account_in = account_1\n",
    "password_in = password_2 \n"
   ]
  },
  {
   "attachments": {},
   "cell_type": "markdown",
   "metadata": {},
   "source": [
    "### [2] Access, Sign-in"
   ]
  },
  {
   "cell_type": "code",
   "execution_count": 50,
   "metadata": {},
   "outputs": [],
   "source": [
    "# 웹 페이지 접속 - [전체 기록 관리] 페이지로 바로 접근\n",
    "driver = uc.Chrome()\n",
    "driver.get(\n",
    "    'https://myactivity.google.com/product/youtube?hl=ko&utm_medium=web&utm_source=youtube')\n"
   ]
  },
  {
   "cell_type": "code",
   "execution_count": 51,
   "metadata": {},
   "outputs": [],
   "source": [
    "# 맞춤 기록 페이지 [로그인] 버튼 클릭\n",
    "try:\n",
    "    btn_sign_in = WebDriverWait(driver, 3).until(\n",
    "        EC.presence_of_element_located((By.XPATH, '//*[@id=\"gb\"]/div[2]/div[3]/div[1]/a')))\n",
    "    btn_sign_in.click()\n",
    "except:\n",
    "    pass\n",
    "\n",
    "# 계정 이메일 입력\n",
    "try:\n",
    "    input_account = WebDriverWait(driver, 3).until(\n",
    "        EC.presence_of_element_located((By.XPATH, '//*[@id=\"identifierId\"]')))\n",
    "    input_account.send_keys(account_in)\n",
    "except:\n",
    "    pass\n",
    "# [다음] 버튼 클릭해 패스워드 입력\n",
    "try:\n",
    "    btn_next_password = WebDriverWait(driver, 3).until(\n",
    "        EC.presence_of_element_located((By.XPATH, '//*[@id=\"identifierNext\"]/div/button/span')))\n",
    "    btn_next_password.click()\n",
    "except:\n",
    "    pass\n",
    "\n",
    "# 계정 비밀번호 입력\n",
    "try:\n",
    "    input_password = WebDriverWait(driver, 3).until(\n",
    "        EC.presence_of_element_located((By.XPATH, '//*[@id=\"password\"]/div[1]/div/div[1]/input')))\n",
    "    input_password.send_keys(password_in)\n",
    "    del password_in # 계정 비밀번호 변수 삭제\n",
    "except:\n",
    "    pass\n",
    "\n",
    "# [다음] 버튼 입력해 로그인 클릭\n",
    "try:\n",
    "    btn_next_sign_in = WebDriverWait(driver, 3).until(\n",
    "        EC.presence_of_element_located((By.XPATH, '//*[@id=\"passwordNext\"]/div/button')))\n",
    "    btn_next_sign_in.click()\n",
    "except:\n",
    "    pass\n",
    "\n"
   ]
  },
  {
   "cell_type": "code",
   "execution_count": null,
   "metadata": {},
   "outputs": [
    {
     "name": "stdout",
     "output_type": "stream",
     "text": [
      "맞춤 페이지 없음. 시청기록 수집을 시작합니다.\n"
     ]
    }
   ],
   "source": [
    "# 연락처 확인을 통한 개인 맞춤 설정 페이지\n",
    "try:\n",
    "    # 텍스트를 변수로 정의\n",
    "    page_personalize = driver.find_element(\n",
    "        By.XPATH, '//*[@id=\"yDmH0d\"]/c-wiz/div/div/div/div[2]/div[3]/div/div[1]')\n",
    "\n",
    "    # 변수 정의가 되는 경우. [나중에] 버튼 클릭\n",
    "    if page_personalize:\n",
    "        driver.find_element(\n",
    "            By.XPATH, '//*[@id=\"yDmH0d\"]/c-wiz/div/div/div/div[2]/div[4]/div[1]/button/span').click()\n",
    "\n",
    "except:\n",
    "    print('맞춤 페이지 없음. 시청기록 수집을 시작합니다.')\n"
   ]
  },
  {
   "cell_type": "code",
   "execution_count": 41,
   "metadata": {},
   "outputs": [],
   "source": [
    "driver.refresh()"
   ]
  },
  {
   "attachments": {},
   "cell_type": "markdown",
   "metadata": {},
   "source": [
    "### [3] Daily Record Collection"
   ]
  },
  {
   "attachments": {},
   "cell_type": "markdown",
   "metadata": {},
   "source": [
    "#### 1) Variables & Functions"
   ]
  },
  {
   "cell_type": "code",
   "execution_count": 52,
   "metadata": {},
   "outputs": [],
   "source": [
    "# Variables (1) - Record data Tag Attributes\n",
    "\n",
    "\n",
    "# 기본 영상 정보\n",
    "nm_class_container = \"xDtZAf\"  # 각 기록 container / tag = <c-wiz>\n",
    "nm_class_title = \"l8sGWb\"  # 영상 제목 & 검색어 / tag = <a>\n",
    "nm_class_RunningTime = \"bI9urf\"  # 영상 길이 / tag = <div>\n",
    "nm_class_WatchTime = \"H3Q9vf XTnvW\"  # 시청 시간 / tag = <div>\n",
    "nm_class_channel = \"SiEggd\"  # 채널명 없는 경우 광고 / tag = <div>\n",
    "# WatchDate = container[data-date] / c-wiz 태그의 [data-date] 값\n",
    "\n",
    "# 시청유무 판별 정보\n",
    "nm_class_thumbnail = \"OUPWA\"  # 기록 우측에 있는 영상 정보 (썸네일) / tag = <div>\n",
    "nm_class_percentage = \"HmLFgd\"  # 썸네일 하단 빨간 Percentage Bar / tag = <div>\n",
    "# RunningTime 활용\n",
    "\n",
    "# 시청기록 - video id\n",
    "# replace(pattern, '')로 id 값 추출\n",
    "id_str_pattern = \"https://www.youtube.com/watch?v=\"\n"
   ]
  },
  {
   "cell_type": "code",
   "execution_count": 53,
   "metadata": {},
   "outputs": [],
   "source": [
    "# Variables (2) Google API - Youtube Data\n",
    "\n",
    "\n",
    "# API 실행에 필요한 모듈\n",
    "from googleapiclient.discovery import build\n",
    "from googleapiclient.errors import HttpError\n",
    "from google_auth_oauthlib.flow import InstalledAppFlow\n",
    "\n",
    "# API 정보, API Key => API build\n",
    "API_SERVICE_NAME = 'youtube'\n",
    "API_VERSION = 'v3'\n",
    "DEVELOPER_KEY = open('secure/api_key.txt').readline()\n",
    "\n",
    "youtube = build(API_SERVICE_NAME, API_VERSION, developerKey=DEVELOPER_KEY)"
   ]
  },
  {
   "cell_type": "code",
   "execution_count": 54,
   "metadata": {},
   "outputs": [
    {
     "name": "stdout",
     "output_type": "stream",
     "text": [
      "20230219\n"
     ]
    },
    {
     "data": {
      "text/plain": [
       "datetime.datetime(2023, 2, 19, 0, 0)"
      ]
     },
     "execution_count": 54,
     "metadata": {},
     "output_type": "execute_result"
    }
   ],
   "source": [
    "# Function (1) - Datetime\n",
    "\n",
    "\n",
    "def get_date(data_date):\n",
    "    return datetime.strptime(data_date, '%Y%m%d')\n",
    "\n",
    "def get_datadate(input_date=datetime.today()):\n",
    "    return datetime.strftime(input_date, '%Y%m%d')\n",
    "\n",
    "print(get_datadate()) # 오늘 날짜를 data-date 형식으로\n",
    "get_date(get_datadate())"
   ]
  },
  {
   "cell_type": "code",
   "execution_count": 55,
   "metadata": {},
   "outputs": [],
   "source": [
    "# Function (2) - Category Id & Title\n",
    "\n",
    "\"\"\" Google API - Youtube DATA API 활용\n",
    "\n",
    "    세부 query\n",
    "    - videos().list(): id 값(watch?v=\"여기 표시되는 값\")으로 동영상 정보를 호출\n",
    "        - categoryId 호출을 위해 활용\n",
    "    \n",
    "    - videoCategories().list(): categoryId 값(1~44)으로 카테고리 정보를 호출\n",
    "        - categoryTitle 호출을 위해 활용\n",
    "\"\"\"\n",
    "\n",
    "\"\"\" 개선 필요\n",
    "        categoryTitle이 영어로 호출됨\n",
    "        query 옵션에서 한국어를 호출하거나, 번역해야 한다.\n",
    "\"\"\"\n",
    "\n",
    "\n",
    "def get_catId(input_id):\n",
    "    video = youtube.videos().list(\n",
    "        part='snippet',\n",
    "        id=input_id\n",
    "    ).execute()\n",
    "\n",
    "    return video['items'][0]['snippet']['categoryId']\n",
    "\n",
    "\n",
    "def get_catTitle(num):\n",
    "    catId = youtube.videoCategories().list(\n",
    "        id=num,\n",
    "        part='snippet'\n",
    "    ).execute()\n",
    "\n",
    "    try:\n",
    "        result = catId['items'][0]['snippet']['title']\n",
    "    except:\n",
    "        result = ''\n",
    "\n",
    "    return result\n"
   ]
  },
  {
   "cell_type": "code",
   "execution_count": 56,
   "metadata": {},
   "outputs": [],
   "source": [
    "# Function (3) - Watched_YN classifier\n",
    "\n",
    "\"\"\" 구현 가능 Option (1)\n",
    "    - 구현법\n",
    "        1. 현재 레코드의 watch_time과 이전 레코드의 watch_time의 차이값 구한다\n",
    "        2. 영상 길이와 비슷하면 watched, 아닐 시 not_watched\n",
    "\n",
    "    - 문제점\n",
    "        1. 마지막으로 시청한 영상은 차이를 구할 수 없다.\n",
    "        2. 길이 5분 이상 광고를 방치한 경우 시간 계산에 오류가 생긴다\n",
    "\"\"\"\n",
    "\n",
    "\"\"\" 구현 가능 Option (2) -> 현재 Option (2) 채택\n",
    "    - 구현법\n",
    "        1. 시청 기록 레코드의 썸네일의 진행도 막대를 활용한다.\n",
    "        2. 시청 완료하지 않은 영상에 표시되며, 태그 내부의 시청 비율 값을 추출한다.\n",
    "\n",
    "    - 문제점\n",
    "        1. 라이브 스트리밍의 경우 잠깐 보고 꺼도 진행도 막대가 출력되지 않는다.\n",
    "        2. 대충 넘기기만 해도 진행도 막대가 표시된다. \n",
    "\"\"\"\n",
    "\n",
    "\n",
    "def classify_watched(content):\n",
    "    running_time = content.find('div', class_=nm_class_RunningTime).text\n",
    "    thumbnail = content.find('div', class_=nm_class_thumbnail)\n",
    "    percentage = thumbnail.find('div', class_=nm_class_percentage)\n",
    "\n",
    "    try:\n",
    "        result = int(percentage['style'].split(\":\")[1][:-1]) / 100\n",
    "\n",
    "    except:\n",
    "        if len(running_time) > 5: # 영상 길이가 1시간 이상(0:00:00)인 경우\n",
    "            result = 0 # 미시청으로 간주\n",
    "        else:\n",
    "            result = 1 # 시청으로 간주\n",
    "\n",
    "    return result\n"
   ]
  },
  {
   "cell_type": "markdown",
   "metadata": {},
   "source": [
    "#### 2) DataFrame"
   ]
  },
  {
   "cell_type": "code",
   "execution_count": 57,
   "metadata": {},
   "outputs": [
    {
     "data": {
      "text/html": [
       "<div>\n",
       "<style scoped>\n",
       "    .dataframe tbody tr th:only-of-type {\n",
       "        vertical-align: middle;\n",
       "    }\n",
       "\n",
       "    .dataframe tbody tr th {\n",
       "        vertical-align: top;\n",
       "    }\n",
       "\n",
       "    .dataframe thead th {\n",
       "        text-align: right;\n",
       "    }\n",
       "</style>\n",
       "<table border=\"1\" class=\"dataframe\">\n",
       "  <thead>\n",
       "    <tr style=\"text-align: right;\">\n",
       "      <th></th>\n",
       "      <th>title</th>\n",
       "      <th>channel</th>\n",
       "      <th>running_time</th>\n",
       "      <th>watch_date</th>\n",
       "      <th>watch_time</th>\n",
       "      <th>category_id</th>\n",
       "      <th>category_title</th>\n",
       "      <th>watched_YN</th>\n",
       "      <th>account</th>\n",
       "    </tr>\n",
       "  </thead>\n",
       "  <tbody>\n",
       "  </tbody>\n",
       "</table>\n",
       "</div>"
      ],
      "text/plain": [
       "Empty DataFrame\n",
       "Columns: [title, channel, running_time, watch_date, watch_time, category_id, category_title, watched_YN, account]\n",
       "Index: []"
      ]
     },
     "execution_count": 57,
     "metadata": {},
     "output_type": "execute_result"
    }
   ],
   "source": [
    "import pandas as pd\n",
    "columns_rec = ['title', 'channel', 'running_time',\n",
    "               'watch_date', 'watch_time', 'category_id', 'category_title', 'watched_YN', 'account']\n",
    "df_record = pd.DataFrame(columns=columns_rec)\n",
    "df_record.head()\n"
   ]
  },
  {
   "cell_type": "code",
   "execution_count": 58,
   "metadata": {},
   "outputs": [
    {
     "data": {
      "text/html": [
       "<div>\n",
       "<style scoped>\n",
       "    .dataframe tbody tr th:only-of-type {\n",
       "        vertical-align: middle;\n",
       "    }\n",
       "\n",
       "    .dataframe tbody tr th {\n",
       "        vertical-align: top;\n",
       "    }\n",
       "\n",
       "    .dataframe thead th {\n",
       "        text-align: right;\n",
       "    }\n",
       "</style>\n",
       "<table border=\"1\" class=\"dataframe\">\n",
       "  <thead>\n",
       "    <tr style=\"text-align: right;\">\n",
       "      <th></th>\n",
       "      <th>searchword</th>\n",
       "      <th>search_date</th>\n",
       "      <th>search_time</th>\n",
       "      <th>account</th>\n",
       "    </tr>\n",
       "  </thead>\n",
       "  <tbody>\n",
       "  </tbody>\n",
       "</table>\n",
       "</div>"
      ],
      "text/plain": [
       "Empty DataFrame\n",
       "Columns: [searchword, search_date, search_time, account]\n",
       "Index: []"
      ]
     },
     "execution_count": 58,
     "metadata": {},
     "output_type": "execute_result"
    }
   ],
   "source": [
    "columns_ser = ['searchword', 'search_date', 'search_time', 'account']\n",
    "df_search = pd.DataFrame(columns=columns_ser)\n",
    "df_search.head()\n"
   ]
  },
  {
   "cell_type": "markdown",
   "metadata": {},
   "source": [
    "#### 3) Web Data Collecting"
   ]
  },
  {
   "cell_type": "code",
   "execution_count": 75,
   "metadata": {},
   "outputs": [
    {
     "name": "stdout",
     "output_type": "stream",
     "text": [
      "호출된 레코드 수: 100\n"
     ]
    }
   ],
   "source": [
    "html = driver.page_source\n",
    "soup = BeautifulSoup(html, 'html.parser')\n",
    "\n",
    "contents = soup.find_all('c-wiz', class_='xDtZAf')\n",
    "print(f'호출된 레코드 수: {len(contents)}')\n"
   ]
  },
  {
   "cell_type": "code",
   "execution_count": 76,
   "metadata": {},
   "outputs": [
    {
     "name": "stdout",
     "output_type": "stream",
     "text": [
      "0: Watch Record\n",
      "1: Watch Record\n",
      "2: Watch Record\n"
     ]
    }
   ],
   "source": [
    "# 레코드 분류 및 카테고리/시청여부 입력\n",
    "\n",
    "idx_rec = 0  # df_record의 idx\n",
    "idx_ser = 0  # df_search의 idx\n",
    "num_ad = 0  # 총 광고 갯수\n",
    "\n",
    "for idx, content in enumerate(contents):\n",
    "    \n",
    "    if content['data-date'] == get_datadate(datetime.today()):\n",
    "\n",
    "        if content.find('div', 'SiEggd'):  # 채널명이 있는 경우 - 실제 시청 기록 or 커뮤니티 게시글\n",
    "            if content.find('div', class_=nm_class_RunningTime): # 영상 길이가 있는 경우 - 실제 시청기록\n",
    "                print(f\"{idx}: Watch Record\")\n",
    "\n",
    "                title = content.find('a', class_=nm_class_title).text\n",
    "                channel = content.find('div', class_=nm_class_channel).text \n",
    "                running_time = content.find(\n",
    "                    'div', class_=nm_class_RunningTime).text\n",
    "                \n",
    "                watch_date = get_date(content['data-date'])\n",
    "                watch_time = ' '.join(\n",
    "                    (content.find('div', class_=nm_class_WatchTime).text.split(' '))[:2])\n",
    "                \n",
    "                video_id = content.find('a')['href'].replace(id_str_pattern, '')\n",
    "                category_id = get_catId(video_id)\n",
    "                category_title = get_catTitle(category_id)\n",
    "\n",
    "                watched = classify_watched(content) \n",
    "                \n",
    "\n",
    "                df_record.loc[idx_rec] = [title, channel, running_time, \n",
    "                                        watch_date, watch_time, category_id, category_title, watched, account_1]\n",
    "                idx_rec += 1\n",
    "\n",
    "            else:\n",
    "                print(f\"{idx}: Community Post \\t Watch time: {watch_time}\")\n",
    "\n",
    "        else:\n",
    "            if str(content.find('div', class_='iXL6O')) == '<div class=\"iXL6O\"></div>':\n",
    "                print(f\"{idx}: Search Record\")\n",
    "\n",
    "                title = content.find('a', class_=nm_class_title).text\n",
    "                search_date = get_date(content['data-date'])\n",
    "                search_time = ' '.join(\n",
    "                    (content.find('div', class_=nm_class_WatchTime).text.split(' '))[:2])\n",
    "\n",
    "                df_search.loc[idx_ser] = [title, search_date, search_time, account_1]\n",
    "\n",
    "                idx_ser += 1\n",
    "\n",
    "            else:\n",
    "                print(f\"{idx}: Ad\")\n",
    "\n",
    "                num_ad += 1\n",
    "\n",
    "    else:\n",
    "        break\n",
    "    "
   ]
  },
  {
   "cell_type": "code",
   "execution_count": 78,
   "metadata": {},
   "outputs": [
    {
     "data": {
      "text/html": [
       "<div>\n",
       "<style scoped>\n",
       "    .dataframe tbody tr th:only-of-type {\n",
       "        vertical-align: middle;\n",
       "    }\n",
       "\n",
       "    .dataframe tbody tr th {\n",
       "        vertical-align: top;\n",
       "    }\n",
       "\n",
       "    .dataframe thead th {\n",
       "        text-align: right;\n",
       "    }\n",
       "</style>\n",
       "<table border=\"1\" class=\"dataframe\">\n",
       "  <thead>\n",
       "    <tr style=\"text-align: right;\">\n",
       "      <th></th>\n",
       "      <th>title</th>\n",
       "      <th>channel</th>\n",
       "      <th>running_time</th>\n",
       "      <th>watch_date</th>\n",
       "      <th>watch_time</th>\n",
       "      <th>category_id</th>\n",
       "      <th>category_title</th>\n",
       "      <th>watched_YN</th>\n",
       "      <th>account</th>\n",
       "    </tr>\n",
       "  </thead>\n",
       "  <tbody>\n",
       "    <tr>\n",
       "      <th>0</th>\n",
       "      <td>[#무한도전] ★설날 특집 150분 순삭★ 레전드의 향연 《명수는 12살》 보면서 ...</td>\n",
       "      <td>오분순삭</td>\n",
       "      <td>2:35:18</td>\n",
       "      <td>2023-02-19</td>\n",
       "      <td>오전 11:50</td>\n",
       "      <td>24</td>\n",
       "      <td>Entertainment</td>\n",
       "      <td>0.1</td>\n",
       "      <td>kjaehw0207</td>\n",
       "    </tr>\n",
       "    <tr>\n",
       "      <th>1</th>\n",
       "      <td>한 명만 재미없는 여느 때의 T1│1R LSB vs T1│ 2023 LCK SPRI...</td>\n",
       "      <td>Wolf</td>\n",
       "      <td>1:03:13</td>\n",
       "      <td>2023-02-19</td>\n",
       "      <td>오전 10:44</td>\n",
       "      <td>20</td>\n",
       "      <td>Gaming</td>\n",
       "      <td>0.0</td>\n",
       "      <td>kjaehw0207</td>\n",
       "    </tr>\n",
       "    <tr>\n",
       "      <th>2</th>\n",
       "      <td>패드립</td>\n",
       "      <td>팍플레이Pacplay</td>\n",
       "      <td>10:54</td>\n",
       "      <td>2023-02-19</td>\n",
       "      <td>오전 10:31</td>\n",
       "      <td>20</td>\n",
       "      <td>Gaming</td>\n",
       "      <td>1.0</td>\n",
       "      <td>kjaehw0207</td>\n",
       "    </tr>\n",
       "  </tbody>\n",
       "</table>\n",
       "</div>"
      ],
      "text/plain": [
       "                                               title      channel  \\\n",
       "0  [#무한도전] ★설날 특집 150분 순삭★ 레전드의 향연 《명수는 12살》 보면서 ...         오분순삭   \n",
       "1  한 명만 재미없는 여느 때의 T1│1R LSB vs T1│ 2023 LCK SPRI...         Wolf   \n",
       "2                                                패드립  팍플레이Pacplay   \n",
       "\n",
       "  running_time watch_date watch_time category_id category_title  watched_YN  \\\n",
       "0      2:35:18 2023-02-19   오전 11:50          24  Entertainment         0.1   \n",
       "1      1:03:13 2023-02-19   오전 10:44          20         Gaming         0.0   \n",
       "2        10:54 2023-02-19   오전 10:31          20         Gaming         1.0   \n",
       "\n",
       "      account  \n",
       "0  kjaehw0207  \n",
       "1  kjaehw0207  \n",
       "2  kjaehw0207  "
      ]
     },
     "execution_count": 78,
     "metadata": {},
     "output_type": "execute_result"
    }
   ],
   "source": [
    "df_record.to_csv(f\"data/{get_datadate()}_watch_record_{account_in}.csv\", encoding='utf-8')\n",
    "df_record.head()"
   ]
  },
  {
   "cell_type": "code",
   "execution_count": 36,
   "metadata": {},
   "outputs": [
    {
     "data": {
      "text/html": [
       "<div>\n",
       "<style scoped>\n",
       "    .dataframe tbody tr th:only-of-type {\n",
       "        vertical-align: middle;\n",
       "    }\n",
       "\n",
       "    .dataframe tbody tr th {\n",
       "        vertical-align: top;\n",
       "    }\n",
       "\n",
       "    .dataframe thead th {\n",
       "        text-align: right;\n",
       "    }\n",
       "</style>\n",
       "<table border=\"1\" class=\"dataframe\">\n",
       "  <thead>\n",
       "    <tr style=\"text-align: right;\">\n",
       "      <th></th>\n",
       "      <th>searchword</th>\n",
       "      <th>search_date</th>\n",
       "      <th>search_time</th>\n",
       "      <th>account</th>\n",
       "    </tr>\n",
       "  </thead>\n",
       "  <tbody>\n",
       "  </tbody>\n",
       "</table>\n",
       "</div>"
      ],
      "text/plain": [
       "Empty DataFrame\n",
       "Columns: [searchword, search_date, search_time, account]\n",
       "Index: []"
      ]
     },
     "execution_count": 36,
     "metadata": {},
     "output_type": "execute_result"
    }
   ],
   "source": [
    "df_search.to_csv(f\"data/{get_datadate()}_search_record_{account_in}.csv\", encoding='utf-8')\n",
    "df_search.head()"
   ]
  },
  {
   "cell_type": "code",
   "execution_count": 79,
   "metadata": {},
   "outputs": [],
   "source": [
    "driver.close()"
   ]
  },
  {
   "cell_type": "code",
   "execution_count": null,
   "metadata": {},
   "outputs": [],
   "source": []
  }
 ],
 "metadata": {
  "kernelspec": {
   "display_name": ".venv",
   "language": "python",
   "name": "python3"
  },
  "language_info": {
   "codemirror_mode": {
    "name": "ipython",
    "version": 3
   },
   "file_extension": ".py",
   "mimetype": "text/x-python",
   "name": "python",
   "nbconvert_exporter": "python",
   "pygments_lexer": "ipython3",
   "version": "3.10.8"
  },
  "orig_nbformat": 4,
  "vscode": {
   "interpreter": {
    "hash": "7880f4a06cb6623f55e577143847100fa07c03e9791a778a2f7747c07c19792e"
   }
  }
 },
 "nbformat": 4,
 "nbformat_minor": 2
}
