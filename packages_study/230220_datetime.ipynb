{
 "cells": [
  {
   "attachments": {},
   "cell_type": "markdown",
   "metadata": {},
   "source": [
    "### Time"
   ]
  },
  {
   "cell_type": "code",
   "execution_count": 1,
   "metadata": {},
   "outputs": [],
   "source": [
    "import time"
   ]
  },
  {
   "attachments": {},
   "cell_type": "markdown",
   "metadata": {},
   "source": [
    "#### Time 모듈 이해를 위한 개념\n"
   ]
  },
  {
   "attachments": {},
   "cell_type": "markdown",
   "metadata": {},
   "source": [
    "UTC"
   ]
  },
  {
   "cell_type": "markdown",
   "metadata": {},
   "source": [
    "POSIX"
   ]
  },
  {
   "attachments": {},
   "cell_type": "markdown",
   "metadata": {},
   "source": [
    "ISO C standard"
   ]
  },
  {
   "attachments": {},
   "cell_type": "markdown",
   "metadata": {},
   "source": [
    "#### Time 모듈 함수 연습"
   ]
  },
  {
   "cell_type": "code",
   "execution_count": 2,
   "metadata": {},
   "outputs": [
    {
     "data": {
      "text/plain": [
       "time.struct_time(tm_year=2023, tm_mon=3, tm_mday=28, tm_hour=1, tm_min=27, tm_sec=47, tm_wday=1, tm_yday=87, tm_isdst=0)"
      ]
     },
     "execution_count": 2,
     "metadata": {},
     "output_type": "execute_result"
    }
   ],
   "source": [
    "time.gmtime() # GMT 반환"
   ]
  },
  {
   "cell_type": "code",
   "execution_count": 3,
   "metadata": {},
   "outputs": [
    {
     "data": {
      "text/plain": [
       "time.struct_time(tm_year=2023, tm_mon=3, tm_mday=28, tm_hour=10, tm_min=27, tm_sec=47, tm_wday=1, tm_yday=87, tm_isdst=0)"
      ]
     },
     "execution_count": 3,
     "metadata": {},
     "output_type": "execute_result"
    }
   ],
   "source": [
    "time.localtime() # 현지시각 반환"
   ]
  },
  {
   "attachments": {},
   "cell_type": "markdown",
   "metadata": {},
   "source": [
    "##### **time.strftime(format, time_struct Obj.)**\n",
    "\n",
    "- 뒷부분의 `time_struct` 객체를 `format` 형식의 string으로 반환  \n",
    "\n",
    "- \"Convert a tuple or struct_time representing a time as returned by gmtime() or localtime() to a string as specified by the format argument.\""
   ]
  },
  {
   "cell_type": "code",
   "execution_count": 4,
   "metadata": {},
   "outputs": [
    {
     "name": "stdout",
     "output_type": "stream",
     "text": [
      "10:27 AM <class 'str'>\n"
     ]
    }
   ],
   "source": [
    "ex_strftime = time.strftime(\"%H:%M %p\", time.localtime())\n",
    "\n",
    "# 시간 Format\n",
    "    # %H - 24시 표현법 시간 \n",
    "    # %I - 12시 표현법 시간\n",
    "    # %M - 분\n",
    "    # %S - 초\n",
    "    # %p - AM / PM 표기\n",
    "\n",
    "print(ex_strftime, type(ex_strftime)) \n"
   ]
  },
  {
   "cell_type": "code",
   "execution_count": 5,
   "metadata": {},
   "outputs": [
    {
     "name": "stdout",
     "output_type": "stream",
     "text": [
      "2023-03-28\n",
      "March 28, 2023 (Tuesday)\n"
     ]
    }
   ],
   "source": [
    "ex2_strftime = time.strftime(\"%Y-%m-%d\", time.localtime())\n",
    "ex3_strftime = time.strftime(\"%B %d, %Y (%A)\", time.localtime())\n",
    "\n",
    "# 날짜 Format\n",
    "    # %y - 두자리 표현법 연도\n",
    "    # %Y - 네자리 표현법 연도\n",
    "    # %m - 월 / %b, %B - 월 이름\n",
    "    # %d - 일\n",
    "    # %a, %A - 요일 이름\n",
    "\n",
    "print(ex2_strftime)\n",
    "print(ex3_strftime)\n"
   ]
  },
  {
   "attachments": {},
   "cell_type": "markdown",
   "metadata": {},
   "source": [
    "##### **time.strptime(string, format)**\n",
    "\n",
    "- 문자열을 format에 따라 parse (분석), time_struct 객체로 반환  \n",
    "\n",
    "- \"Parse a string representing a time according to a format. The return value is a struct_time as returned by gmtime() or localtime().\"\n"
   ]
  },
  {
   "cell_type": "code",
   "execution_count": 6,
   "metadata": {},
   "outputs": [
    {
     "name": "stdout",
     "output_type": "stream",
     "text": [
      "time.struct_time(tm_year=2000, tm_mon=11, tm_mday=30, tm_hour=0, tm_min=0, tm_sec=0, tm_wday=3, tm_yday=335, tm_isdst=-1)\n"
     ]
    }
   ],
   "source": [
    "ex1_strptime = time.strptime(\"30 Nov 00\", \"%d %b %y\")\n",
    "print(ex1_strptime)"
   ]
  },
  {
   "cell_type": "code",
   "execution_count": 13,
   "metadata": {},
   "outputs": [
    {
     "name": "stdout",
     "output_type": "stream",
     "text": [
      "time.struct_time(tm_year=1900, tm_mon=1, tm_mday=1, tm_hour=23, tm_min=59, tm_sec=0, tm_wday=0, tm_yday=1, tm_isdst=-1)\n"
     ]
    },
    {
     "ename": "ValueError",
     "evalue": "time data '26:21' does not match format '%H:%M'",
     "output_type": "error",
     "traceback": [
      "\u001b[1;31m---------------------------------------------------------------------------\u001b[0m",
      "\u001b[1;31mValueError\u001b[0m                                Traceback (most recent call last)",
      "Cell \u001b[1;32mIn[13], line 4\u001b[0m\n\u001b[0;32m      1\u001b[0m ex2_strptime \u001b[39m=\u001b[39m time\u001b[39m.\u001b[39mstrptime(\u001b[39m\"\u001b[39m\u001b[39m23:59\u001b[39m\u001b[39m\"\u001b[39m, \u001b[39m\"\u001b[39m\u001b[39m%\u001b[39m\u001b[39mH:\u001b[39m\u001b[39m%\u001b[39m\u001b[39mM\u001b[39m\u001b[39m\"\u001b[39m)\n\u001b[0;32m      2\u001b[0m \u001b[39mprint\u001b[39m(ex2_strptime)\n\u001b[1;32m----> 4\u001b[0m ex3_strptime \u001b[39m=\u001b[39m time\u001b[39m.\u001b[39;49mstrptime(\u001b[39m\"\u001b[39;49m\u001b[39m26:21\u001b[39;49m\u001b[39m\"\u001b[39;49m, \u001b[39m\"\u001b[39;49m\u001b[39m%\u001b[39;49m\u001b[39mH:\u001b[39;49m\u001b[39m%\u001b[39;49m\u001b[39mM\u001b[39;49m\u001b[39m\"\u001b[39;49m)\n\u001b[0;32m      5\u001b[0m \u001b[39mprint\u001b[39m(ex3_strptime)\n\u001b[0;32m      7\u001b[0m \u001b[39m'''%H의 경우 24 이상이 입력되지 않는다.'''\u001b[39;00m\n",
      "File \u001b[1;32m~\\AppData\\Local\\Programs\\Python\\Python310\\lib\\_strptime.py:562\u001b[0m, in \u001b[0;36m_strptime_time\u001b[1;34m(data_string, format)\u001b[0m\n\u001b[0;32m    559\u001b[0m \u001b[39mdef\u001b[39;00m \u001b[39m_strptime_time\u001b[39m(data_string, \u001b[39mformat\u001b[39m\u001b[39m=\u001b[39m\u001b[39m\"\u001b[39m\u001b[39m%a\u001b[39;00m\u001b[39m \u001b[39m\u001b[39m%\u001b[39m\u001b[39mb \u001b[39m\u001b[39m%d\u001b[39;00m\u001b[39m \u001b[39m\u001b[39m%\u001b[39m\u001b[39mH:\u001b[39m\u001b[39m%\u001b[39m\u001b[39mM:\u001b[39m\u001b[39m%\u001b[39m\u001b[39mS \u001b[39m\u001b[39m%\u001b[39m\u001b[39mY\u001b[39m\u001b[39m\"\u001b[39m):\n\u001b[0;32m    560\u001b[0m \u001b[39m    \u001b[39m\u001b[39m\"\"\"Return a time struct based on the input string and the\u001b[39;00m\n\u001b[0;32m    561\u001b[0m \u001b[39m    format string.\"\"\"\u001b[39;00m\n\u001b[1;32m--> 562\u001b[0m     tt \u001b[39m=\u001b[39m _strptime(data_string, \u001b[39mformat\u001b[39;49m)[\u001b[39m0\u001b[39m]\n\u001b[0;32m    563\u001b[0m     \u001b[39mreturn\u001b[39;00m time\u001b[39m.\u001b[39mstruct_time(tt[:time\u001b[39m.\u001b[39m_STRUCT_TM_ITEMS])\n",
      "File \u001b[1;32m~\\AppData\\Local\\Programs\\Python\\Python310\\lib\\_strptime.py:349\u001b[0m, in \u001b[0;36m_strptime\u001b[1;34m(data_string, format)\u001b[0m\n\u001b[0;32m    347\u001b[0m found \u001b[39m=\u001b[39m format_regex\u001b[39m.\u001b[39mmatch(data_string)\n\u001b[0;32m    348\u001b[0m \u001b[39mif\u001b[39;00m \u001b[39mnot\u001b[39;00m found:\n\u001b[1;32m--> 349\u001b[0m     \u001b[39mraise\u001b[39;00m \u001b[39mValueError\u001b[39;00m(\u001b[39m\"\u001b[39m\u001b[39mtime data \u001b[39m\u001b[39m%r\u001b[39;00m\u001b[39m does not match format \u001b[39m\u001b[39m%r\u001b[39;00m\u001b[39m\"\u001b[39m \u001b[39m%\u001b[39m\n\u001b[0;32m    350\u001b[0m                      (data_string, \u001b[39mformat\u001b[39m))\n\u001b[0;32m    351\u001b[0m \u001b[39mif\u001b[39;00m \u001b[39mlen\u001b[39m(data_string) \u001b[39m!=\u001b[39m found\u001b[39m.\u001b[39mend():\n\u001b[0;32m    352\u001b[0m     \u001b[39mraise\u001b[39;00m \u001b[39mValueError\u001b[39;00m(\u001b[39m\"\u001b[39m\u001b[39munconverted data remains: \u001b[39m\u001b[39m%s\u001b[39;00m\u001b[39m\"\u001b[39m \u001b[39m%\u001b[39m\n\u001b[0;32m    353\u001b[0m                       data_string[found\u001b[39m.\u001b[39mend():])\n",
      "\u001b[1;31mValueError\u001b[0m: time data '26:21' does not match format '%H:%M'"
     ]
    }
   ],
   "source": [
    "ex2_strptime = time.strptime(\"23:59\", \"%H:%M\")\n",
    "print(ex2_strptime)\n",
    "\n",
    "ex3_strptime = time.strptime(\"26:21\", \"%H:%M\")\n",
    "print(ex3_strptime)\n",
    "\n",
    "'''%H의 경우 24 이상이 입력되지 않는다.'''\n"
   ]
  },
  {
   "cell_type": "code",
   "execution_count": 14,
   "metadata": {},
   "outputs": [
    {
     "name": "stdout",
     "output_type": "stream",
     "text": [
      "Year must be 4 digits.\n",
      "Year must be 4 digits.\n",
      "Month must be between 1 and 12.\n",
      "The date is 2023-01-02.\n"
     ]
    }
   ],
   "source": [
    "while True:\n",
    "    year = input(\"Please enter the year (4 digits): \")\n",
    "    month = input(\"Please enter the month (1-2 digits): \")\n",
    "    day = input(\"Please enter the day (1-2 digits): \")\n",
    "    \n",
    "    try:\n",
    "        year = int(year)\n",
    "        month = int(month)\n",
    "        day = int(day)\n",
    "    except ValueError:\n",
    "        print(\"Please enter integers for year, month, and day.\")\n",
    "        continue\n",
    "    \n",
    "    if len(str(year)) != 4:\n",
    "        print(\"Year must be 4 digits.\")\n",
    "        continue\n",
    "    if month < 1 or month > 12:\n",
    "        print(\"Month must be between 1 and 12.\")\n",
    "        continue\n",
    "    if day < 1 or day > 31:\n",
    "        print(\"Day must be between 1 and 31.\")\n",
    "        continue\n",
    "    \n",
    "    # If the code reaches this point, the input is valid\n",
    "    break\n",
    "\n",
    "print(\"The date is {}-{:02d}-{:02d}.\".format(year, month, day))\n"
   ]
  },
  {
   "cell_type": "code",
   "execution_count": 3,
   "metadata": {},
   "outputs": [
    {
     "name": "stdout",
     "output_type": "stream",
     "text": [
      "The date is 2028-03-01.\n"
     ]
    }
   ],
   "source": [
    "while True:\n",
    "    try:\n",
    "        year, month, day = [int(input(f\"{field}를(을) 입력해주세요\" )) for field in (\"연도(4자리)\", \"월(1~2자리)\", \"일(1~2자리)\")]\n",
    "        if not (1000 <= year <= 9999 and 1 <= month <= 12 and 1 <= day <= 31):\n",
    "            input(\"Invalid input. Wanna Try again?\")\n",
    "        else:\n",
    "            break\n",
    "    except: \n",
    "        print(\"Invalid input. Wanna Try again?\")\n",
    "    \n",
    "print(f\"The date is {year:04d}-{month:02d}-{day:02d}.\")\n"
   ]
  },
  {
   "attachments": {},
   "cell_type": "markdown",
   "metadata": {},
   "source": []
  }
 ],
 "metadata": {
  "kernelspec": {
   "display_name": ".venv",
   "language": "python",
   "name": "python3"
  },
  "language_info": {
   "codemirror_mode": {
    "name": "ipython",
    "version": 3
   },
   "file_extension": ".py",
   "mimetype": "text/x-python",
   "name": "python",
   "nbconvert_exporter": "python",
   "pygments_lexer": "ipython3",
   "version": "3.10.8"
  },
  "orig_nbformat": 4,
  "vscode": {
   "interpreter": {
    "hash": "7880f4a06cb6623f55e577143847100fa07c03e9791a778a2f7747c07c19792e"
   }
  }
 },
 "nbformat": 4,
 "nbformat_minor": 2
}
