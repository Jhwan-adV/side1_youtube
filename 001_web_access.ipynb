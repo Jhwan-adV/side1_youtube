{
 "cells": [
  {
   "cell_type": "code",
   "execution_count": 2,
   "metadata": {},
   "outputs": [],
   "source": [
    "from selenium import webdriver\n",
    "from bs4 import BeautifulSoup"
   ]
  },
  {
   "cell_type": "code",
   "execution_count": 3,
   "metadata": {},
   "outputs": [
    {
     "name": "stderr",
     "output_type": "stream",
     "text": [
      "C:\\Users\\kjaeh\\AppData\\Local\\Temp\\ipykernel_14620\\530843676.py:1: DeprecationWarning: executable_path has been deprecated, please pass in a Service object\n",
      "  driver = webdriver.Chrome('chromedriver.exe')\n"
     ]
    }
   ],
   "source": [
    "driver = webdriver.Chrome('chromedriver.exe')"
   ]
  },
  {
   "cell_type": "code",
   "execution_count": 5,
   "metadata": {},
   "outputs": [
    {
     "name": "stdout",
     "output_type": "stream",
     "text": [
      "Collecting undetected_chromedriver\n",
      "  Downloading undetected-chromedriver-3.2.1.tar.gz (60 kB)\n",
      "     -------------------------------------- 60.0/60.0 kB 638.0 kB/s eta 0:00:00\n",
      "  Preparing metadata (setup.py): started\n",
      "  Preparing metadata (setup.py): finished with status 'done'\n",
      "Requirement already satisfied: selenium>=4.0.0 in d:\\000_git\\002.side\\.venv\\lib\\site-packages (from undetected_chromedriver) (4.8.0)\n",
      "Collecting requests\n",
      "  Using cached requests-2.28.2-py3-none-any.whl (62 kB)\n",
      "Collecting websockets\n",
      "  Downloading websockets-10.4-cp39-cp39-win_amd64.whl (101 kB)\n",
      "     -------------------------------------- 101.4/101.4 kB 1.2 MB/s eta 0:00:00\n",
      "Requirement already satisfied: trio-websocket~=0.9 in d:\\000_git\\002.side\\.venv\\lib\\site-packages (from selenium>=4.0.0->undetected_chromedriver) (0.9.2)\n",
      "Requirement already satisfied: urllib3[socks]~=1.26 in d:\\000_git\\002.side\\.venv\\lib\\site-packages (from selenium>=4.0.0->undetected_chromedriver) (1.26.14)\n",
      "Requirement already satisfied: certifi>=2021.10.8 in d:\\000_git\\002.side\\.venv\\lib\\site-packages (from selenium>=4.0.0->undetected_chromedriver) (2022.12.7)\n",
      "Requirement already satisfied: trio~=0.17 in d:\\000_git\\002.side\\.venv\\lib\\site-packages (from selenium>=4.0.0->undetected_chromedriver) (0.22.0)\n",
      "Requirement already satisfied: idna<4,>=2.5 in d:\\000_git\\002.side\\.venv\\lib\\site-packages (from requests->undetected_chromedriver) (3.4)\n",
      "Collecting charset-normalizer<4,>=2\n",
      "  Using cached charset_normalizer-3.0.1-cp39-cp39-win_amd64.whl (96 kB)\n",
      "Requirement already satisfied: outcome in d:\\000_git\\002.side\\.venv\\lib\\site-packages (from trio~=0.17->selenium>=4.0.0->undetected_chromedriver) (1.2.0)\n",
      "Requirement already satisfied: sortedcontainers in d:\\000_git\\002.side\\.venv\\lib\\site-packages (from trio~=0.17->selenium>=4.0.0->undetected_chromedriver) (2.4.0)\n",
      "Requirement already satisfied: exceptiongroup>=1.0.0rc9 in d:\\000_git\\002.side\\.venv\\lib\\site-packages (from trio~=0.17->selenium>=4.0.0->undetected_chromedriver) (1.1.0)\n",
      "Requirement already satisfied: async-generator>=1.9 in d:\\000_git\\002.side\\.venv\\lib\\site-packages (from trio~=0.17->selenium>=4.0.0->undetected_chromedriver) (1.10)\n",
      "Requirement already satisfied: sniffio in d:\\000_git\\002.side\\.venv\\lib\\site-packages (from trio~=0.17->selenium>=4.0.0->undetected_chromedriver) (1.3.0)\n",
      "Requirement already satisfied: cffi>=1.14 in d:\\000_git\\002.side\\.venv\\lib\\site-packages (from trio~=0.17->selenium>=4.0.0->undetected_chromedriver) (1.15.1)\n",
      "Requirement already satisfied: attrs>=19.2.0 in d:\\000_git\\002.side\\.venv\\lib\\site-packages (from trio~=0.17->selenium>=4.0.0->undetected_chromedriver) (22.2.0)\n",
      "Requirement already satisfied: wsproto>=0.14 in d:\\000_git\\002.side\\.venv\\lib\\site-packages (from trio-websocket~=0.9->selenium>=4.0.0->undetected_chromedriver) (1.2.0)\n",
      "Requirement already satisfied: PySocks!=1.5.7,<2.0,>=1.5.6 in d:\\000_git\\002.side\\.venv\\lib\\site-packages (from urllib3[socks]~=1.26->selenium>=4.0.0->undetected_chromedriver) (1.7.1)\n",
      "Requirement already satisfied: pycparser in d:\\000_git\\002.side\\.venv\\lib\\site-packages (from cffi>=1.14->trio~=0.17->selenium>=4.0.0->undetected_chromedriver) (2.21)\n",
      "Requirement already satisfied: h11<1,>=0.9.0 in d:\\000_git\\002.side\\.venv\\lib\\site-packages (from wsproto>=0.14->trio-websocket~=0.9->selenium>=4.0.0->undetected_chromedriver) (0.14.0)\n",
      "Installing collected packages: charset-normalizer, websockets, requests, undetected_chromedriver\n",
      "  Running setup.py install for undetected_chromedriver: started\n",
      "  Running setup.py install for undetected_chromedriver: finished with status 'done'\n",
      "Successfully installed charset-normalizer-3.0.1 requests-2.28.2 undetected_chromedriver-3.2.1 websockets-10.4\n"
     ]
    },
    {
     "name": "stderr",
     "output_type": "stream",
     "text": [
      "  DEPRECATION: undetected_chromedriver is being installed using the legacy 'setup.py install' method, because it does not have a 'pyproject.toml' and the 'wheel' package is not installed. pip 23.1 will enforce this behaviour change. A possible replacement is to enable the '--use-pep517' option. Discussion can be found at https://github.com/pypa/pip/issues/8559\n"
     ]
    }
   ],
   "source": [
    "!pip install undetected_chromedriver"
   ]
  },
  {
   "cell_type": "code",
   "execution_count": 1,
   "metadata": {},
   "outputs": [],
   "source": [
    "import time\n",
    "\n",
    "from selenium.common.exceptions import WebDriverException\n",
    "from selenium.webdriver.remote.webdriver import By\n",
    "import selenium.webdriver.support.expected_conditions as EC  # noqa\n",
    "from selenium.webdriver.support.wait import WebDriverWait\n",
    "\n",
    "import undetected_chromedriver as uc"
   ]
  },
  {
   "cell_type": "code",
   "execution_count": null,
   "metadata": {},
   "outputs": [],
   "source": []
  }
 ],
 "metadata": {
  "kernelspec": {
   "display_name": ".venv",
   "language": "python",
   "name": "python3"
  },
  "language_info": {
   "codemirror_mode": {
    "name": "ipython",
    "version": 3
   },
   "file_extension": ".py",
   "mimetype": "text/x-python",
   "name": "python",
   "nbconvert_exporter": "python",
   "pygments_lexer": "ipython3",
   "version": "3.9.13"
  },
  "orig_nbformat": 4,
  "vscode": {
   "interpreter": {
    "hash": "f6944cccf7b51d39dd9493d52d986e1405ecd4cab2980d894c118e6dfbf98e1e"
   }
  }
 },
 "nbformat": 4,
 "nbformat_minor": 2
}
