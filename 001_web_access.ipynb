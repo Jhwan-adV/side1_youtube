{
 "cells": [
  {
   "attachments": {},
   "cell_type": "markdown",
   "metadata": {},
   "source": [
    "## 1. Web Access"
   ]
  },
  {
   "attachments": {},
   "cell_type": "markdown",
   "metadata": {},
   "source": [
    "### 1. Modules & Variables"
   ]
  },
  {
   "cell_type": "code",
   "execution_count": 41,
   "metadata": {},
   "outputs": [
    {
     "name": "stdout",
     "output_type": "stream",
     "text": [
      "Requirement already satisfied: undetected_chromedriver in c:\\users\\kjaeh\\documents\\github\\001.sidepjt\\.venv\\lib\\site-packages (3.2.1)\n",
      "Requirement already satisfied: selenium>=4.0.0 in c:\\users\\kjaeh\\documents\\github\\001.sidepjt\\.venv\\lib\\site-packages (from undetected_chromedriver) (4.8.0)\n",
      "Requirement already satisfied: requests in c:\\users\\kjaeh\\documents\\github\\001.sidepjt\\.venv\\lib\\site-packages (from undetected_chromedriver) (2.28.2)\n",
      "Requirement already satisfied: websockets in c:\\users\\kjaeh\\documents\\github\\001.sidepjt\\.venv\\lib\\site-packages (from undetected_chromedriver) (10.4)\n",
      "Requirement already satisfied: certifi>=2021.10.8 in c:\\users\\kjaeh\\documents\\github\\001.sidepjt\\.venv\\lib\\site-packages (from selenium>=4.0.0->undetected_chromedriver) (2022.12.7)\n",
      "Requirement already satisfied: urllib3[socks]~=1.26 in c:\\users\\kjaeh\\documents\\github\\001.sidepjt\\.venv\\lib\\site-packages (from selenium>=4.0.0->undetected_chromedriver) (1.26.14)\n",
      "Requirement already satisfied: trio~=0.17 in c:\\users\\kjaeh\\documents\\github\\001.sidepjt\\.venv\\lib\\site-packages (from selenium>=4.0.0->undetected_chromedriver) (0.22.0)\n",
      "Requirement already satisfied: trio-websocket~=0.9 in c:\\users\\kjaeh\\documents\\github\\001.sidepjt\\.venv\\lib\\site-packages (from selenium>=4.0.0->undetected_chromedriver) (0.9.2)\n",
      "Requirement already satisfied: idna<4,>=2.5 in c:\\users\\kjaeh\\documents\\github\\001.sidepjt\\.venv\\lib\\site-packages (from requests->undetected_chromedriver) (3.4)\n",
      "Requirement already satisfied: charset-normalizer<4,>=2 in c:\\users\\kjaeh\\documents\\github\\001.sidepjt\\.venv\\lib\\site-packages (from requests->undetected_chromedriver) (3.0.1)\n",
      "Requirement already satisfied: attrs>=19.2.0 in c:\\users\\kjaeh\\documents\\github\\001.sidepjt\\.venv\\lib\\site-packages (from trio~=0.17->selenium>=4.0.0->undetected_chromedriver) (22.2.0)\n",
      "Requirement already satisfied: sniffio in c:\\users\\kjaeh\\documents\\github\\001.sidepjt\\.venv\\lib\\site-packages (from trio~=0.17->selenium>=4.0.0->undetected_chromedriver) (1.3.0)\n",
      "Requirement already satisfied: sortedcontainers in c:\\users\\kjaeh\\documents\\github\\001.sidepjt\\.venv\\lib\\site-packages (from trio~=0.17->selenium>=4.0.0->undetected_chromedriver) (2.4.0)\n",
      "Requirement already satisfied: cffi>=1.14 in c:\\users\\kjaeh\\documents\\github\\001.sidepjt\\.venv\\lib\\site-packages (from trio~=0.17->selenium>=4.0.0->undetected_chromedriver) (1.15.1)\n",
      "Requirement already satisfied: exceptiongroup>=1.0.0rc9 in c:\\users\\kjaeh\\documents\\github\\001.sidepjt\\.venv\\lib\\site-packages (from trio~=0.17->selenium>=4.0.0->undetected_chromedriver) (1.1.0)\n",
      "Requirement already satisfied: outcome in c:\\users\\kjaeh\\documents\\github\\001.sidepjt\\.venv\\lib\\site-packages (from trio~=0.17->selenium>=4.0.0->undetected_chromedriver) (1.2.0)\n",
      "Requirement already satisfied: async-generator>=1.9 in c:\\users\\kjaeh\\documents\\github\\001.sidepjt\\.venv\\lib\\site-packages (from trio~=0.17->selenium>=4.0.0->undetected_chromedriver) (1.10)\n",
      "Requirement already satisfied: wsproto>=0.14 in c:\\users\\kjaeh\\documents\\github\\001.sidepjt\\.venv\\lib\\site-packages (from trio-websocket~=0.9->selenium>=4.0.0->undetected_chromedriver) (1.2.0)\n",
      "Requirement already satisfied: PySocks!=1.5.7,<2.0,>=1.5.6 in c:\\users\\kjaeh\\documents\\github\\001.sidepjt\\.venv\\lib\\site-packages (from urllib3[socks]~=1.26->selenium>=4.0.0->undetected_chromedriver) (1.7.1)\n",
      "Requirement already satisfied: pycparser in c:\\users\\kjaeh\\documents\\github\\001.sidepjt\\.venv\\lib\\site-packages (from cffi>=1.14->trio~=0.17->selenium>=4.0.0->undetected_chromedriver) (2.21)\n",
      "Requirement already satisfied: h11<1,>=0.9.0 in c:\\users\\kjaeh\\documents\\github\\001.sidepjt\\.venv\\lib\\site-packages (from wsproto>=0.14->trio-websocket~=0.9->selenium>=4.0.0->undetected_chromedriver) (0.14.0)\n"
     ]
    }
   ],
   "source": [
    "! pip install undetected_chromedriver\n",
    "\n",
    "# 원격 조종 시에도 구글 로그인 가능\n",
    "# 참고 링크\n",
    "# https://github.com/ultrafunkamsterdam/undetected-chromedriver"
   ]
  },
  {
   "cell_type": "code",
   "execution_count": 22,
   "metadata": {},
   "outputs": [],
   "source": [
    "import time\n",
    "\n",
    "from selenium.common.exceptions import WebDriverException\n",
    "from selenium.webdriver.remote.webdriver import By\n",
    "from selenium import webdriver\n",
    "from selenium.webdriver.support.wait import WebDriverWait\n",
    "import selenium.webdriver.support.expected_conditions as EC  # noqa\n",
    "\n",
    "import undetected_chromedriver as uc \n",
    "\n",
    "from bs4 import BeautifulSoup"
   ]
  },
  {
   "cell_type": "code",
   "execution_count": 42,
   "metadata": {},
   "outputs": [],
   "source": [
    "dict_gAccounts = {\n",
    "    'kjaehw0207' : 'flapaqj1!%',\n",
    "    'woghks.study' : 'ans_entrance00'\n",
    "}\n",
    "\n",
    "account_1 = list(dict_gAccounts.keys())[0]\n",
    "password_1 = dict_gAccounts[account_1]\n",
    "\n",
    "account_2 = list(dict_gAccounts.keys())[1]\n",
    "password_2 = dict_gAccounts[account_2]"
   ]
  },
  {
   "attachments": {},
   "cell_type": "markdown",
   "metadata": {},
   "source": [
    "### 2. Web Access"
   ]
  },
  {
   "cell_type": "code",
   "execution_count": 31,
   "metadata": {},
   "outputs": [],
   "source": [
    "# 웹 페이지 접속 - [전체 기록 관리] 페이지로 바로 접근\n",
    "driver = uc.Chrome()\n",
    "driver.get('https://myactivity.google.com/product/youtube?hl=ko&utm_medium=web&utm_source=youtube')"
   ]
  },
  {
   "cell_type": "code",
   "execution_count": 36,
   "metadata": {},
   "outputs": [],
   "source": [
    "# 맞춤 기록 페이지 [로그인] 버튼 클릭\n",
    "btn_sign_in = driver.find_element(By.XPATH, '//*[@id=\"gb\"]/div[2]/div[3]/div[1]/a')\n",
    "btn_sign_in.click()"
   ]
  },
  {
   "cell_type": "code",
   "execution_count": 37,
   "metadata": {},
   "outputs": [],
   "source": [
    "# 계정 이메일 입력\n",
    "input_account = driver.find_element(By.XPATH, '//*[@id=\"identifierId\"]')\n",
    "input_account.send_keys(account_2)\n",
    "time.sleep(1)"
   ]
  },
  {
   "cell_type": "code",
   "execution_count": 38,
   "metadata": {},
   "outputs": [],
   "source": [
    "# [다음] 버튼 클릭해 패스워드 입력\n",
    "btn_next_password = driver.find_element(By.XPATH, '//*[@id=\"identifierNext\"]/div/button/span')\n",
    "btn_next_password.click()\n",
    "time.sleep(1)"
   ]
  },
  {
   "cell_type": "code",
   "execution_count": 35,
   "metadata": {},
   "outputs": [],
   "source": [
    "driver.back()\n",
    "\n",
    "'''\n",
    "비밀번호를 입력했는데도 모래시계만 돌고 있을 때\n",
    "driver.back() 명령어 진행하면 맞춤기록 초기 페이지로 이동\n",
    "로그인 버튼부터 다시\n",
    "'''"
   ]
  },
  {
   "cell_type": "code",
   "execution_count": 39,
   "metadata": {},
   "outputs": [],
   "source": [
    "# 계정 비밀번호 입력\n",
    "input_password = driver.find_element(By.XPATH, '//*[@id=\"password\"]/div[1]/div/div[1]/input')\n",
    "input_password.send_keys(password_2)"
   ]
  },
  {
   "cell_type": "code",
   "execution_count": 40,
   "metadata": {},
   "outputs": [],
   "source": [
    "# [다음] 버튼 입력해 로그인 클릭\n",
    "btn_next_sign_in = driver.find_element(By.XPATH, '//*[@id=\"passwordNext\"]/div/button')\n",
    "btn_next_sign_in.click()"
   ]
  },
  {
   "cell_type": "code",
   "execution_count": 29,
   "metadata": {},
   "outputs": [],
   "source": [
    "# 연락처 확인을 통한 개인 맞춤 설정 페이지\n",
    "try: \n",
    "    # 텍스트를 변수로 정의\n",
    "    page_personalize = driver.find_element(By.XPATH, '//*[@id=\"yDmH0d\"]/c-wiz/div/div/div/div[2]/div[3]/div/div[1]')\n",
    "     \n",
    "    # 변수 정의가 되는 경우. [나중에] 버튼 클릭\n",
    "    if page_personalize:\n",
    "        driver.find_element(By.XPATH, '//*[@id=\"yDmH0d\"]/c-wiz/div/div/div/div[2]/div[4]/div[1]/button/span').click()\n",
    "\n",
    "except:\n",
    "    pass"
   ]
  },
  {
   "attachments": {},
   "cell_type": "markdown",
   "metadata": {},
   "source": [
    "### 3. Data Collection"
   ]
  },
  {
   "cell_type": "code",
   "execution_count": 64,
   "metadata": {},
   "outputs": [],
   "source": [
    "# 항목별 Class 이름\n",
    "\n",
    "nm_class_container = \"k2bP7e YYajNd\" # 각 기록 container / tag = <div>\n",
    "nm_class_title = \"l8sGWb\" # 영상 제목 / tag = <a>\n",
    "nm_class_RunningTime = \"bI9urf\" # 영상 길이 / tag = <div>\n",
    "nm_class_WatchTime = \"H3Q9vf XTnvW\" # 시청 시간 / tag = <div>"
   ]
  },
  {
   "cell_type": "code",
   "execution_count": 62,
   "metadata": {},
   "outputs": [
    {
     "data": {
      "text/plain": [
       "100"
      ]
     },
     "execution_count": 62,
     "metadata": {},
     "output_type": "execute_result"
    }
   ],
   "source": [
    "html = driver.page_source\n",
    "soup = BeautifulSoup(html, 'html.parser')\n",
    "\n",
    "containers = soup.find_all('div', class_= nm_class_container)\n",
    "len(containers) # 초기 항목은 100개임을 확인할 수 있다."
   ]
  },
  {
   "cell_type": "code",
   "execution_count": 65,
   "metadata": {},
   "outputs": [
    {
     "name": "stdout",
     "output_type": "stream",
     "text": [
      "솔직히, 연봉 얼마 받으세요? 직무, 연차별 현실 연봉 | ①광화문\n",
      "4:48\n",
      "오전 11:46 • 세부정보\n"
     ]
    }
   ],
   "source": [
    "sample = containers[1]\n",
    "print(sample.find('a', class_=nm_class_title).text)\n",
    "print(sample.find('div', class_=nm_class_RunningTime).text)\n",
    "print(sample.find('div', class_=nm_class_WatchTime).text)"
   ]
  },
  {
   "cell_type": "code",
   "execution_count": null,
   "metadata": {},
   "outputs": [],
   "source": [
    "# 날짜별로 나누려면?"
   ]
  },
  {
   "attachments": {},
   "cell_type": "markdown",
   "metadata": {},
   "source": [
    "### Spare codes"
   ]
  },
  {
   "cell_type": "code",
   "execution_count": null,
   "metadata": {},
   "outputs": [],
   "source": [
    "btn_acccount_info = driver.find_element(By.XPATH, '//*[@id=\"gb\"]/div[2]/div[3]/div[1]/div[2]/div/a')\n",
    "\n",
    "btn_sign_out = '' \n",
    "# html document, iframe 태그 안에 들어있어 확인이 어려움.\n",
    "# 여러 계정을 같이 분석할 경우 driver 초기화 방식으로 진행하자."
   ]
  },
  {
   "cell_type": "code",
   "execution_count": 66,
   "metadata": {},
   "outputs": [],
   "source": [
    "driver.close()"
   ]
  },
  {
   "attachments": {},
   "cell_type": "markdown",
   "metadata": {},
   "source": [
    "아이디 / 비밀번호 입력 없이 로그인을 직접 한다면?\n",
    "- 보안 문제\n",
    "- 로그인 한 후 driver 초기화 문제"
   ]
  }
 ],
 "metadata": {
  "kernelspec": {
   "display_name": ".venv",
   "language": "python",
   "name": "python3"
  },
  "language_info": {
   "codemirror_mode": {
    "name": "ipython",
    "version": 3
   },
   "file_extension": ".py",
   "mimetype": "text/x-python",
   "name": "python",
   "nbconvert_exporter": "python",
   "pygments_lexer": "ipython3",
   "version": "3.10.8"
  },
  "orig_nbformat": 4,
  "vscode": {
   "interpreter": {
    "hash": "7880f4a06cb6623f55e577143847100fa07c03e9791a778a2f7747c07c19792e"
   }
  }
 },
 "nbformat": 4,
 "nbformat_minor": 2
}
