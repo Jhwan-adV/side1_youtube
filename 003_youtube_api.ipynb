{
 "cells": [
  {
   "attachments": {},
   "cell_type": "markdown",
   "metadata": {},
   "source": [
    "### Modules for API"
   ]
  },
  {
   "cell_type": "code",
   "execution_count": 11,
   "metadata": {},
   "outputs": [
    {
     "name": "stdout",
     "output_type": "stream",
     "text": [
      "Requirement already satisfied: google-api-python-client in c:\\users\\kjaeh\\documents\\github\\001.sidepjt\\.venv\\lib\\site-packages (2.77.0)\n",
      "Requirement already satisfied: uritemplate<5,>=3.0.1 in c:\\users\\kjaeh\\documents\\github\\001.sidepjt\\.venv\\lib\\site-packages (from google-api-python-client) (4.1.1)\n",
      "Requirement already satisfied: google-auth-httplib2>=0.1.0 in c:\\users\\kjaeh\\documents\\github\\001.sidepjt\\.venv\\lib\\site-packages (from google-api-python-client) (0.1.0)\n",
      "Requirement already satisfied: httplib2<1dev,>=0.15.0 in c:\\users\\kjaeh\\documents\\github\\001.sidepjt\\.venv\\lib\\site-packages (from google-api-python-client) (0.21.0)\n",
      "Requirement already satisfied: google-api-core!=2.0.*,!=2.1.*,!=2.2.*,!=2.3.0,<3.0.0dev,>=1.31.5 in c:\\users\\kjaeh\\documents\\github\\001.sidepjt\\.venv\\lib\\site-packages (from google-api-python-client) (2.11.0)\n",
      "Requirement already satisfied: google-auth<3.0.0dev,>=1.19.0 in c:\\users\\kjaeh\\documents\\github\\001.sidepjt\\.venv\\lib\\site-packages (from google-api-python-client) (2.16.0)\n",
      "Requirement already satisfied: googleapis-common-protos<2.0dev,>=1.56.2 in c:\\users\\kjaeh\\documents\\github\\001.sidepjt\\.venv\\lib\\site-packages (from google-api-core!=2.0.*,!=2.1.*,!=2.2.*,!=2.3.0,<3.0.0dev,>=1.31.5->google-api-python-client) (1.58.0)\n",
      "Requirement already satisfied: protobuf!=3.20.0,!=3.20.1,!=4.21.0,!=4.21.1,!=4.21.2,!=4.21.3,!=4.21.4,!=4.21.5,<5.0.0dev,>=3.19.5 in c:\\users\\kjaeh\\documents\\github\\001.sidepjt\\.venv\\lib\\site-packages (from google-api-core!=2.0.*,!=2.1.*,!=2.2.*,!=2.3.0,<3.0.0dev,>=1.31.5->google-api-python-client) (3.20.3)\n",
      "Requirement already satisfied: requests<3.0.0dev,>=2.18.0 in c:\\users\\kjaeh\\documents\\github\\001.sidepjt\\.venv\\lib\\site-packages (from google-api-core!=2.0.*,!=2.1.*,!=2.2.*,!=2.3.0,<3.0.0dev,>=1.31.5->google-api-python-client) (2.28.2)\n",
      "Requirement already satisfied: cachetools<6.0,>=2.0.0 in c:\\users\\kjaeh\\documents\\github\\001.sidepjt\\.venv\\lib\\site-packages (from google-auth<3.0.0dev,>=1.19.0->google-api-python-client) (5.3.0)\n",
      "Requirement already satisfied: rsa<5,>=3.1.4 in c:\\users\\kjaeh\\documents\\github\\001.sidepjt\\.venv\\lib\\site-packages (from google-auth<3.0.0dev,>=1.19.0->google-api-python-client) (4.9)\n",
      "Requirement already satisfied: pyasn1-modules>=0.2.1 in c:\\users\\kjaeh\\documents\\github\\001.sidepjt\\.venv\\lib\\site-packages (from google-auth<3.0.0dev,>=1.19.0->google-api-python-client) (0.2.8)\n",
      "Requirement already satisfied: six>=1.9.0 in c:\\users\\kjaeh\\documents\\github\\001.sidepjt\\.venv\\lib\\site-packages (from google-auth<3.0.0dev,>=1.19.0->google-api-python-client) (1.16.0)\n",
      "Requirement already satisfied: pyparsing!=3.0.0,!=3.0.1,!=3.0.2,!=3.0.3,<4,>=2.4.2 in c:\\users\\kjaeh\\documents\\github\\001.sidepjt\\.venv\\lib\\site-packages (from httplib2<1dev,>=0.15.0->google-api-python-client) (3.0.9)\n",
      "Requirement already satisfied: pyasn1<0.5.0,>=0.4.6 in c:\\users\\kjaeh\\documents\\github\\001.sidepjt\\.venv\\lib\\site-packages (from pyasn1-modules>=0.2.1->google-auth<3.0.0dev,>=1.19.0->google-api-python-client) (0.4.8)\n",
      "Requirement already satisfied: idna<4,>=2.5 in c:\\users\\kjaeh\\documents\\github\\001.sidepjt\\.venv\\lib\\site-packages (from requests<3.0.0dev,>=2.18.0->google-api-core!=2.0.*,!=2.1.*,!=2.2.*,!=2.3.0,<3.0.0dev,>=1.31.5->google-api-python-client) (3.4)\n",
      "Requirement already satisfied: certifi>=2017.4.17 in c:\\users\\kjaeh\\documents\\github\\001.sidepjt\\.venv\\lib\\site-packages (from requests<3.0.0dev,>=2.18.0->google-api-core!=2.0.*,!=2.1.*,!=2.2.*,!=2.3.0,<3.0.0dev,>=1.31.5->google-api-python-client) (2022.12.7)\n",
      "Requirement already satisfied: charset-normalizer<4,>=2 in c:\\users\\kjaeh\\documents\\github\\001.sidepjt\\.venv\\lib\\site-packages (from requests<3.0.0dev,>=2.18.0->google-api-core!=2.0.*,!=2.1.*,!=2.2.*,!=2.3.0,<3.0.0dev,>=1.31.5->google-api-python-client) (3.0.1)\n",
      "Requirement already satisfied: urllib3<1.27,>=1.21.1 in c:\\users\\kjaeh\\documents\\github\\001.sidepjt\\.venv\\lib\\site-packages (from requests<3.0.0dev,>=2.18.0->google-api-core!=2.0.*,!=2.1.*,!=2.2.*,!=2.3.0,<3.0.0dev,>=1.31.5->google-api-python-client) (1.26.14)\n",
      "Requirement already satisfied: google-auth-oauthlib in c:\\users\\kjaeh\\documents\\github\\001.sidepjt\\.venv\\lib\\site-packages (1.0.0)\n",
      "Requirement already satisfied: google-auth-httplib2 in c:\\users\\kjaeh\\documents\\github\\001.sidepjt\\.venv\\lib\\site-packages (0.1.0)\n",
      "Requirement already satisfied: google-auth>=2.15.0 in c:\\users\\kjaeh\\documents\\github\\001.sidepjt\\.venv\\lib\\site-packages (from google-auth-oauthlib) (2.16.0)\n",
      "Requirement already satisfied: requests-oauthlib>=0.7.0 in c:\\users\\kjaeh\\documents\\github\\001.sidepjt\\.venv\\lib\\site-packages (from google-auth-oauthlib) (1.3.1)\n",
      "Requirement already satisfied: httplib2>=0.15.0 in c:\\users\\kjaeh\\documents\\github\\001.sidepjt\\.venv\\lib\\site-packages (from google-auth-httplib2) (0.21.0)\n",
      "Requirement already satisfied: six in c:\\users\\kjaeh\\documents\\github\\001.sidepjt\\.venv\\lib\\site-packages (from google-auth-httplib2) (1.16.0)\n",
      "Requirement already satisfied: pyasn1-modules>=0.2.1 in c:\\users\\kjaeh\\documents\\github\\001.sidepjt\\.venv\\lib\\site-packages (from google-auth>=2.15.0->google-auth-oauthlib) (0.2.8)\n",
      "Requirement already satisfied: rsa<5,>=3.1.4 in c:\\users\\kjaeh\\documents\\github\\001.sidepjt\\.venv\\lib\\site-packages (from google-auth>=2.15.0->google-auth-oauthlib) (4.9)\n",
      "Requirement already satisfied: cachetools<6.0,>=2.0.0 in c:\\users\\kjaeh\\documents\\github\\001.sidepjt\\.venv\\lib\\site-packages (from google-auth>=2.15.0->google-auth-oauthlib) (5.3.0)\n",
      "Requirement already satisfied: pyparsing!=3.0.0,!=3.0.1,!=3.0.2,!=3.0.3,<4,>=2.4.2 in c:\\users\\kjaeh\\documents\\github\\001.sidepjt\\.venv\\lib\\site-packages (from httplib2>=0.15.0->google-auth-httplib2) (3.0.9)\n",
      "Requirement already satisfied: requests>=2.0.0 in c:\\users\\kjaeh\\documents\\github\\001.sidepjt\\.venv\\lib\\site-packages (from requests-oauthlib>=0.7.0->google-auth-oauthlib) (2.28.2)\n",
      "Requirement already satisfied: oauthlib>=3.0.0 in c:\\users\\kjaeh\\documents\\github\\001.sidepjt\\.venv\\lib\\site-packages (from requests-oauthlib>=0.7.0->google-auth-oauthlib) (3.2.2)\n",
      "Requirement already satisfied: pyasn1<0.5.0,>=0.4.6 in c:\\users\\kjaeh\\documents\\github\\001.sidepjt\\.venv\\lib\\site-packages (from pyasn1-modules>=0.2.1->google-auth>=2.15.0->google-auth-oauthlib) (0.4.8)\n",
      "Requirement already satisfied: urllib3<1.27,>=1.21.1 in c:\\users\\kjaeh\\documents\\github\\001.sidepjt\\.venv\\lib\\site-packages (from requests>=2.0.0->requests-oauthlib>=0.7.0->google-auth-oauthlib) (1.26.14)\n",
      "Requirement already satisfied: certifi>=2017.4.17 in c:\\users\\kjaeh\\documents\\github\\001.sidepjt\\.venv\\lib\\site-packages (from requests>=2.0.0->requests-oauthlib>=0.7.0->google-auth-oauthlib) (2022.12.7)\n",
      "Requirement already satisfied: idna<4,>=2.5 in c:\\users\\kjaeh\\documents\\github\\001.sidepjt\\.venv\\lib\\site-packages (from requests>=2.0.0->requests-oauthlib>=0.7.0->google-auth-oauthlib) (3.4)\n",
      "Requirement already satisfied: charset-normalizer<4,>=2 in c:\\users\\kjaeh\\documents\\github\\001.sidepjt\\.venv\\lib\\site-packages (from requests>=2.0.0->requests-oauthlib>=0.7.0->google-auth-oauthlib) (3.0.1)\n"
     ]
    }
   ],
   "source": [
    "# Youtube Data API 사용을 위한 packages 설치\n",
    "! pip install --upgrade google-api-python-client\n",
    "! pip install --upgrade google-auth-oauthlib google-auth-httplib2\n",
    "! pip install oauth2client"
   ]
  },
  {
   "attachments": {},
   "cell_type": "markdown",
   "metadata": {},
   "source": [
    "### Youtube data API testing"
   ]
  },
  {
   "cell_type": "code",
   "execution_count": 1,
   "metadata": {},
   "outputs": [],
   "source": [
    "from googleapiclient.discovery import build\n",
    "from googleapiclient.errors import HttpError\n",
    "from google_auth_oauthlib.flow import InstalledAppFlow\n"
   ]
  },
  {
   "cell_type": "code",
   "execution_count": 5,
   "metadata": {},
   "outputs": [],
   "source": [
    "key = open('api_key.txt').readline()\n",
    "\n",
    "DEVELOPER_KEY = key\n",
    "API_SERVICE_NAME = 'youtube'\n",
    "API_VERSION = 'v3'\n",
    "\n",
    "youtube = build(API_SERVICE_NAME, API_VERSION, developerKey=DEVELOPER_KEY)"
   ]
  },
  {
   "cell_type": "code",
   "execution_count": null,
   "metadata": {},
   "outputs": [],
   "source": [
    "search_response = youtube.videos().list(\n",
    "    id = \"aLb9TpmiXN0\",\n",
    "    part = \"snippet\",\n",
    "    ).execute()"
   ]
  },
  {
   "cell_type": "code",
   "execution_count": 21,
   "metadata": {},
   "outputs": [
    {
     "data": {
      "text/plain": [
       "{'kind': 'youtube#videoListResponse',\n",
       " 'etag': 'a-F8EylTZd-avvYLYUhQ-rv_4p8',\n",
       " 'items': [{'kind': 'youtube#video',\n",
       "   'etag': 'Jxy19URd1Te7FLi_-MKYdF9aNv8',\n",
       "   'id': 'iOl6fIXqpYk',\n",
       "   'snippet': {'publishedAt': '2018-01-01T08:15:08Z',\n",
       "    'channelId': 'UCFrp2-l45AKK7hFIBhyEV2w',\n",
       "    'title': '백색소음 | 대형 독서실 백색소음기 | 공부용 타이머 Study Timer 3시간',\n",
       "    'description': '공부 백색소음 독서실 - 백색소음기',\n",
       "    'thumbnails': {'default': {'url': 'https://i.ytimg.com/vi/iOl6fIXqpYk/default.jpg',\n",
       "      'width': 120,\n",
       "      'height': 90},\n",
       "     'medium': {'url': 'https://i.ytimg.com/vi/iOl6fIXqpYk/mqdefault.jpg',\n",
       "      'width': 320,\n",
       "      'height': 180},\n",
       "     'high': {'url': 'https://i.ytimg.com/vi/iOl6fIXqpYk/hqdefault.jpg',\n",
       "      'width': 480,\n",
       "      'height': 360},\n",
       "     'standard': {'url': 'https://i.ytimg.com/vi/iOl6fIXqpYk/sddefault.jpg',\n",
       "      'width': 640,\n",
       "      'height': 480},\n",
       "     'maxres': {'url': 'https://i.ytimg.com/vi/iOl6fIXqpYk/maxresdefault.jpg',\n",
       "      'width': 1280,\n",
       "      'height': 720}},\n",
       "    'channelTitle': 'White Noise Box백색소음 상자',\n",
       "    'tags': ['독서실 백색소음',\n",
       "     '백색소음기',\n",
       "     '3시간',\n",
       "     '공부',\n",
       "     'study timer',\n",
       "     '도서관',\n",
       "     '백색소음',\n",
       "     'study',\n",
       "     'library',\n",
       "     'white noise',\n",
       "     'white noise machine',\n",
       "     '3 hour',\n",
       "     '백색소음 공부',\n",
       "     'stopwatch',\n",
       "     '스톱워치',\n",
       "     '스탑워치',\n",
       "     '勉強',\n",
       "     '作業',\n",
       "     '集中',\n",
       "     '집중',\n",
       "     '집중력',\n",
       "     'ホワイトノイズ',\n",
       "     '図書館',\n",
       "     '3時間',\n",
       "     'ホワイトノイズマシン',\n",
       "     'focus',\n",
       "     'concentration'],\n",
       "    'categoryId': '22',\n",
       "    'liveBroadcastContent': 'none',\n",
       "    'defaultLanguage': 'ko',\n",
       "    'localized': {'title': '백색소음 | 대형 독서실 백색소음기 | 공부용 타이머 Study Timer 3시간',\n",
       "     'description': '공부 백색소음 독서실 - 백색소음기'},\n",
       "    'defaultAudioLanguage': 'und'}}],\n",
       " 'pageInfo': {'totalResults': 1, 'resultsPerPage': 1}}"
      ]
     },
     "execution_count": 21,
     "metadata": {},
     "output_type": "execute_result"
    }
   ],
   "source": [
    "search_response"
   ]
  },
  {
   "cell_type": "code",
   "execution_count": 26,
   "metadata": {},
   "outputs": [],
   "source": [
    "catId = search_response['items'][0]['snippet']['categoryId']"
   ]
  },
  {
   "cell_type": "code",
   "execution_count": 27,
   "metadata": {},
   "outputs": [],
   "source": [
    "category_title = youtube.videoCategories().list(\n",
    "    id = catId,\n",
    "    part = 'snippet'\n",
    "    ).execute()"
   ]
  },
  {
   "cell_type": "code",
   "execution_count": 29,
   "metadata": {},
   "outputs": [
    {
     "data": {
      "text/plain": [
       "'News & Politics'"
      ]
     },
     "execution_count": 29,
     "metadata": {},
     "output_type": "execute_result"
    }
   ],
   "source": [
    "category_title['items'][0]['snippet']['title']"
   ]
  },
  {
   "attachments": {},
   "cell_type": "markdown",
   "metadata": {},
   "source": [
    "### Category Title Dictionary"
   ]
  },
  {
   "cell_type": "code",
   "execution_count": 42,
   "metadata": {},
   "outputs": [],
   "source": [
    "def category_title(num):\n",
    "    catId = youtube.videoCategories().list(\n",
    "    id = num,\n",
    "    part = 'snippet'\n",
    "    ).execute()\n",
    "    \n",
    "    try:\n",
    "        return catId['items'][0]['snippet']['title']\n",
    "    except:\n",
    "        return ''"
   ]
  },
  {
   "cell_type": "code",
   "execution_count": 44,
   "metadata": {},
   "outputs": [
    {
     "data": {
      "text/plain": [
       "{1: 'Film & Animation',\n",
       " 2: 'Autos & Vehicles',\n",
       " 10: 'Music',\n",
       " 15: 'Pets & Animals',\n",
       " 17: 'Sports',\n",
       " 18: 'Short Movies',\n",
       " 19: 'Travel & Events',\n",
       " 20: 'Gaming',\n",
       " 21: 'Videoblogging',\n",
       " 22: 'People & Blogs',\n",
       " 23: 'Comedy',\n",
       " 24: 'Entertainment',\n",
       " 25: 'News & Politics',\n",
       " 26: 'Howto & Style',\n",
       " 27: 'Education',\n",
       " 28: 'Science & Technology',\n",
       " 29: 'Nonprofits & Activism',\n",
       " 30: 'Movies',\n",
       " 31: 'Anime/Animation',\n",
       " 32: 'Action/Adventure',\n",
       " 33: 'Classics',\n",
       " 34: 'Comedy',\n",
       " 35: 'Documentary',\n",
       " 36: 'Drama',\n",
       " 37: 'Family',\n",
       " 38: 'Foreign',\n",
       " 39: 'Horror',\n",
       " 40: 'Sci-Fi/Fantasy',\n",
       " 41: 'Thriller',\n",
       " 42: 'Shorts',\n",
       " 43: 'Shows',\n",
       " 44: 'Trailers'}"
      ]
     },
     "execution_count": 44,
     "metadata": {},
     "output_type": "execute_result"
    }
   ],
   "source": [
    "catDic = {}\n",
    "\n",
    "for i in range(1, 50):\n",
    "    if category_title(i) != '':\n",
    "        catDic[i] = category_title(i)\n",
    "\n",
    "catDic"
   ]
  },
  {
   "attachments": {},
   "cell_type": "markdown",
   "metadata": {},
   "source": [
    "### Application Function"
   ]
  },
  {
   "cell_type": "code",
   "execution_count": 45,
   "metadata": {},
   "outputs": [],
   "source": [
    "def get_catId(input_id):\n",
    "    video = youtube.videos().list(\n",
    "        part = 'snippet',\n",
    "        id = input_id\n",
    "        ).execute()\n",
    "\n",
    "    return video['items'][0]['snippet']['categoryId']"
   ]
  },
  {
   "cell_type": "code",
   "execution_count": 46,
   "metadata": {},
   "outputs": [
    {
     "data": {
      "text/plain": [
       "'27'"
      ]
     },
     "execution_count": 46,
     "metadata": {},
     "output_type": "execute_result"
    }
   ],
   "source": [
    "get_catId('O5_e67StnNY')"
   ]
  },
  {
   "cell_type": "markdown",
   "metadata": {},
   "source": []
  }
 ],
 "metadata": {
  "kernelspec": {
   "display_name": ".venv",
   "language": "python",
   "name": "python3"
  },
  "language_info": {
   "codemirror_mode": {
    "name": "ipython",
    "version": 3
   },
   "file_extension": ".py",
   "mimetype": "text/x-python",
   "name": "python",
   "nbconvert_exporter": "python",
   "pygments_lexer": "ipython3",
   "version": "3.10.8"
  },
  "orig_nbformat": 4,
  "vscode": {
   "interpreter": {
    "hash": "7880f4a06cb6623f55e577143847100fa07c03e9791a778a2f7747c07c19792e"
   }
  }
 },
 "nbformat": 4,
 "nbformat_minor": 2
}
