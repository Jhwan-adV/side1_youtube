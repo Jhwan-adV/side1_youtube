{
 "cells": [
  {
   "attachments": {},
   "cell_type": "markdown",
   "metadata": {},
   "source": [
    "# Troubleshootings"
   ]
  },
  {
   "cell_type": "code",
   "execution_count": null,
   "metadata": {},
   "outputs": [],
   "source": [
    "# 1 - Date: 230203 / File: 01_web_access.ipynb\n",
    "# 다수 계정의 시청 기록을 수집하기 위한 로그아웃\n",
    "\n",
    "\"\"\"\n",
    "btn_acccount_info = driver.find_element(\n",
    "    By.XPATH, '//*[@id=\"gb\"]/div[2]/div[3]/div[1]/div[2]/div/a')\n",
    "\n",
    "btn_sign_out = ''\n",
    "\"\"\"\n",
    "# 로그아웃 버튼이 iframe 태그 안에 숨겨져 확인이 어려움.\n",
    "# 여러 계정을 분석할 경우 일단 driver 초기화 방식으로 진행 -> 추후에 방법 찾기"
   ]
  },
  {
   "cell_type": "code",
   "execution_count": null,
   "metadata": {},
   "outputs": [],
   "source": [
    "# 2 - Date: 230204 / File: 01_web_access.ipynb\n",
    "# 커뮤니티 글 확인 기록: 채널은 있는데, 영상이 없음\n",
    "\"\"\"ERROR\n",
    "---------------------------------------------------------------------------\n",
    "AttributeError                            Traceback (most recent call last)\n",
    "Cell In[33], line 9\n",
    "      7     print(f'{idx}: NO ads')\n",
    "      8     print(content.find('a', class_=nm_class_title).text)\n",
    "----> 9     print(content.find('div', class_=nm_class_RunningTime).text)\n",
    "     10     print(' '.join((content.find('div', class_=nm_class_WatchTime).text.split(' '))[:2]))\n",
    "     12 else:\n",
    "\n",
    "AttributeError: 'NoneType' object has no attribute 'text'\n",
    "\"\"\"\n",
    "# line [9]: 영상 길이 항목이 없음 - 이 부분을 조건으로 걸어주기\n",
    "\"\"\"Solution\n",
    "if content.find('div', class_=nm_class_RunningTime):  \n",
    "      print(f\"{idx}: Watch Record\")\n",
    "      이후 작업...\n",
    "\n",
    "else:\n",
    "      print(f\"{idx}: Community Post \\t Watch time: {watch_time}\")\n",
    "\"\"\"\n"
   ]
  },
  {
   "cell_type": "code",
   "execution_count": null,
   "metadata": {},
   "outputs": [],
   "source": [
    "# 3 - Date: 230219 / File: 01_Initial_Watch_Record.ipynb\n",
    "# title에 정보가 없는 태그 발생 -> 수집이 안 되고 멈춰버림\n",
    "\n",
    "\"\"\"ERROR\n",
    "---------------------------------------------------------------------------\n",
    "AttributeError                            Traceback (most recent call last)\n",
    "Cell In[24], line 37\n",
    "     34 if str(content.find('div', class_='iXL6O')) == '<div class=\"iXL6O\"></div>':\n",
    "     35     print(f\"{idx}: Search Record\")\n",
    "---> 37     title = content.find('a', class_=nm_class_title).text\n",
    "     38     search_date = get_date(content['data-date'])\n",
    "     39     search_time = ' '.join(\n",
    "     40         (content.find('div', class_=nm_class_WatchTime).text.split(' '))[:2])\n",
    "\n",
    "AttributeError: 'NoneType' object has no attribute 'text'\n",
    "\"\"\""
   ]
  },
  {
   "cell_type": "code",
   "execution_count": null,
   "metadata": {},
   "outputs": [],
   "source": [
    "# 4 - Date: 230219 / File: 01_Initail_Watch_Record.ipynb\n",
    "# 다수 계정의 시청기록을 담으려 했으나, idx로 덮어 씌워짐\n",
    "\n",
    "# "
   ]
  },
  {
   "cell_type": "code",
   "execution_count": null,
   "metadata": {},
   "outputs": [],
   "source": [
    "\"\"\"아이디 / 비밀번호 입력 없이 로그인을 직접 한다면?\n",
    "- 보안 문제\n",
    "- 로그인 한 후 driver 초기화 문제\n",
    "    - 1) driver 재시작\n",
    "    - 2) \n",
    "\"\"\""
   ]
  }
 ],
 "metadata": {
  "kernelspec": {
   "display_name": ".venv",
   "language": "python",
   "name": "python3"
  },
  "language_info": {
   "name": "python",
   "version": "3.9.13"
  },
  "orig_nbformat": 4,
  "vscode": {
   "interpreter": {
    "hash": "f6944cccf7b51d39dd9493d52d986e1405ecd4cab2980d894c118e6dfbf98e1e"
   }
  }
 },
 "nbformat": 4,
 "nbformat_minor": 2
}
