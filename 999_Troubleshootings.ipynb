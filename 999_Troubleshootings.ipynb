{
 "cells": [
  {
   "attachments": {},
   "cell_type": "markdown",
   "metadata": {},
   "source": [
    "# Troubleshootings"
   ]
  },
  {
   "cell_type": "code",
   "execution_count": null,
   "metadata": {},
   "outputs": [],
   "source": [
    "# 1 - Date: 230203 / File: 01_web_access.ipynb\n",
    "# 다수 계정의 시청 기록을 수집하기 위한 로그아웃\n",
    "\n",
    "\"\"\"\n",
    "btn_acccount_info = driver.find_element(\n",
    "    By.XPATH, '//*[@id=\"gb\"]/div[2]/div[3]/div[1]/div[2]/div/a')\n",
    "\n",
    "btn_sign_out = ''\n",
    "\"\"\"\n",
    "# 로그아웃 버튼이 iframe 태그 안에 숨겨져 확인이 어려움.\n",
    "# 여러 계정을 분석할 경우 일단 driver 초기화 방식으로 진행 -> 추후에 방법 찾기"
   ]
  },
  {
   "cell_type": "code",
   "execution_count": null,
   "metadata": {},
   "outputs": [],
   "source": [
    "# 2 - Date: 230204 / File: 01_web_access.ipynb\n",
    "# 커뮤니티 글 확인 기록: 채널은 있는데, 영상이 없음\n",
    "\"\"\"ERROR\n",
    "---------------------------------------------------------------------------\n",
    "AttributeError                            Traceback (most recent call last)\n",
    "Cell In[33], line 9\n",
    "      7     print(f'{idx}: NO ads')\n",
    "      8     print(content.find('a', class_=nm_class_title).text)\n",
    "----> 9     print(content.find('div', class_=nm_class_RunningTime).text)\n",
    "     10     print(' '.join((content.find('div', class_=nm_class_WatchTime).text.split(' '))[:2]))\n",
    "     12 else:\n",
    "\n",
    "AttributeError: 'NoneType' object has no attribute 'text'\n",
    "\"\"\"\n",
    "# line [9]: 영상 길이 항목이 없음 - 이 부분을 조건으로 걸어주기\n",
    "\"\"\"Solution\n",
    "if content.find('div', class_=nm_class_RunningTime):  \n",
    "      print(f\"{idx}: Watch Record\")\n",
    "      이후 작업...\n",
    "\n",
    "else:\n",
    "      print(f\"{idx}: Community Post \\t Watch time: {watch_time}\")\n",
    "\"\"\"\n"
   ]
  },
  {
   "cell_type": "code",
   "execution_count": null,
   "metadata": {},
   "outputs": [],
   "source": [
    "\"\"\"아이디 / 비밀번호 입력 없이 로그인을 직접 한다면?\n",
    "- 보안 문제\n",
    "- 로그인 한 후 driver 초기화 문제\n",
    "    - 1) driver 재시작\n",
    "    - 2) \n",
    "\"\"\""
   ]
  }
 ],
 "metadata": {
  "kernelspec": {
   "display_name": "Python 3",
   "language": "python",
   "name": "python3"
  },
  "language_info": {
   "name": "python",
   "version": "3.10.8"
  },
  "orig_nbformat": 4,
  "vscode": {
   "interpreter": {
    "hash": "17acb4e99982379099fa003d5d1ad39123090e5c7f9bdd8ad5243bf9b2b82e20"
   }
  }
 },
 "nbformat": 4,
 "nbformat_minor": 2
}
