{
 "cells": [
  {
   "cell_type": "code",
   "execution_count": 1,
   "metadata": {},
   "outputs": [],
   "source": [
    "import pandas as pd\n",
    "import mysql.connector as mc\n",
    "import mysql"
   ]
  },
  {
   "cell_type": "code",
   "execution_count": 4,
   "metadata": {},
   "outputs": [
    {
     "data": {
      "text/html": [
       "<div>\n",
       "<style scoped>\n",
       "    .dataframe tbody tr th:only-of-type {\n",
       "        vertical-align: middle;\n",
       "    }\n",
       "\n",
       "    .dataframe tbody tr th {\n",
       "        vertical-align: top;\n",
       "    }\n",
       "\n",
       "    .dataframe thead th {\n",
       "        text-align: right;\n",
       "    }\n",
       "</style>\n",
       "<table border=\"1\" class=\"dataframe\">\n",
       "  <thead>\n",
       "    <tr style=\"text-align: right;\">\n",
       "      <th></th>\n",
       "      <th>title</th>\n",
       "      <th>category</th>\n",
       "      <th>running_time</th>\n",
       "      <th>watch_date</th>\n",
       "      <th>watch_time</th>\n",
       "      <th>watched_YN</th>\n",
       "    </tr>\n",
       "  </thead>\n",
       "  <tbody>\n",
       "    <tr>\n",
       "      <th>0</th>\n",
       "      <td>이직해서 절대 하면 안되는 것</td>\n",
       "      <td>노하우/스타일</td>\n",
       "      <td>12:32</td>\n",
       "      <td>2023-02-05</td>\n",
       "      <td>오전 12:09</td>\n",
       "      <td>0.0</td>\n",
       "    </tr>\n",
       "    <tr>\n",
       "      <th>1</th>\n",
       "      <td>원조의 품격 | 농심 vs. T1 게임2 하이라이트 | 02.04 | 2023 LC...</td>\n",
       "      <td>게임</td>\n",
       "      <td>11:43</td>\n",
       "      <td>2023-02-04</td>\n",
       "      <td>오후 9:33</td>\n",
       "      <td>1.0</td>\n",
       "    </tr>\n",
       "    <tr>\n",
       "      <th>2</th>\n",
       "      <td>AI가 견적낸 컴퓨터를 조립해봤는데.. 갓성비 실화입니까?!ㄷㄷ 'ChatGPT로 ...</td>\n",
       "      <td>과학기술</td>\n",
       "      <td>9:05</td>\n",
       "      <td>2023-02-04</td>\n",
       "      <td>오후 9:26</td>\n",
       "      <td>1.0</td>\n",
       "    </tr>\n",
       "    <tr>\n",
       "      <th>3</th>\n",
       "      <td>초가스 키우기 | 디알엑스 vs. 한화생명 게임1 하이라이트 | 02.04 | 20...</td>\n",
       "      <td>게임</td>\n",
       "      <td>12:33</td>\n",
       "      <td>2023-02-04</td>\n",
       "      <td>오후 8:19</td>\n",
       "      <td>1.0</td>\n",
       "    </tr>\n",
       "    <tr>\n",
       "      <th>4</th>\n",
       "      <td>신궁 | 농심 vs. T1 게임1 하이라이트 | 02.04 | 2023 LCK 스프...</td>\n",
       "      <td>게임</td>\n",
       "      <td>9:38</td>\n",
       "      <td>2023-02-04</td>\n",
       "      <td>오후 8:10</td>\n",
       "      <td>1.0</td>\n",
       "    </tr>\n",
       "  </tbody>\n",
       "</table>\n",
       "</div>"
      ],
      "text/plain": [
       "                                               title category running_time  \\\n",
       "0                                   이직해서 절대 하면 안되는 것  노하우/스타일        12:32   \n",
       "1  원조의 품격 | 농심 vs. T1 게임2 하이라이트 | 02.04 | 2023 LC...       게임        11:43   \n",
       "2  AI가 견적낸 컴퓨터를 조립해봤는데.. 갓성비 실화입니까?!ㄷㄷ 'ChatGPT로 ...     과학기술         9:05   \n",
       "3  초가스 키우기 | 디알엑스 vs. 한화생명 게임1 하이라이트 | 02.04 | 20...       게임        12:33   \n",
       "4  신궁 | 농심 vs. T1 게임1 하이라이트 | 02.04 | 2023 LCK 스프...       게임         9:38   \n",
       "\n",
       "   watch_date watch_time  watched_YN  \n",
       "0  2023-02-05   오전 12:09         0.0  \n",
       "1  2023-02-04    오후 9:33         1.0  \n",
       "2  2023-02-04    오후 9:26         1.0  \n",
       "3  2023-02-04    오후 8:19         1.0  \n",
       "4  2023-02-04    오후 8:10         1.0  "
      ]
     },
     "execution_count": 4,
     "metadata": {},
     "output_type": "execute_result"
    }
   ],
   "source": [
    "df_record = pd.read_csv('230205_watch_record.csv')\n",
    "df_record.drop('Unnamed: 0', axis=1, inplace=True)\n",
    "df_record.head()"
   ]
  },
  {
   "cell_type": "code",
   "execution_count": 5,
   "metadata": {},
   "outputs": [
    {
     "name": "stdout",
     "output_type": "stream",
     "text": [
      "<class 'pandas.core.frame.DataFrame'>\n",
      "RangeIndex: 330 entries, 0 to 329\n",
      "Data columns (total 6 columns):\n",
      " #   Column        Non-Null Count  Dtype  \n",
      "---  ------        --------------  -----  \n",
      " 0   title         330 non-null    object \n",
      " 1   category      330 non-null    object \n",
      " 2   running_time  330 non-null    object \n",
      " 3   watch_date    330 non-null    object \n",
      " 4   watch_time    330 non-null    object \n",
      " 5   watched_YN    327 non-null    float64\n",
      "dtypes: float64(1), object(5)\n",
      "memory usage: 15.6+ KB\n"
     ]
    }
   ],
   "source": [
    "df_record.info()"
   ]
  },
  {
   "cell_type": "code",
   "execution_count": null,
   "metadata": {},
   "outputs": [],
   "source": []
  }
 ],
 "metadata": {
  "kernelspec": {
   "display_name": ".venv",
   "language": "python",
   "name": "python3"
  },
  "language_info": {
   "codemirror_mode": {
    "name": "ipython",
    "version": 3
   },
   "file_extension": ".py",
   "mimetype": "text/x-python",
   "name": "python",
   "nbconvert_exporter": "python",
   "pygments_lexer": "ipython3",
   "version": "3.9.13"
  },
  "orig_nbformat": 4,
  "vscode": {
   "interpreter": {
    "hash": "f6944cccf7b51d39dd9493d52d986e1405ecd4cab2980d894c118e6dfbf98e1e"
   }
  }
 },
 "nbformat": 4,
 "nbformat_minor": 2
}
