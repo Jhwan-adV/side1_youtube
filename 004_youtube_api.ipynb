{
 "cells": [
  {
   "cell_type": "code",
   "execution_count": 2,
   "metadata": {},
   "outputs": [
    {
     "ename": "SyntaxError",
     "evalue": "invalid syntax (701515646.py, line 3)",
     "output_type": "error",
     "traceback": [
      "\u001b[1;36m  Cell \u001b[1;32mIn[2], line 3\u001b[1;36m\u001b[0m\n\u001b[1;33m    from apiclient import discovery.build\u001b[0m\n\u001b[1;37m                                   ^\u001b[0m\n\u001b[1;31mSyntaxError\u001b[0m\u001b[1;31m:\u001b[0m invalid syntax\n"
     ]
    }
   ],
   "source": [
    "#!/usr/bin/python\n",
    "\n",
    "from apiclient.discovery import build\n",
    "from apiclient.errors import HttpError\n",
    "from oauth2client.tools import argparser\n"
   ]
  },
  {
   "cell_type": "code",
   "execution_count": null,
   "metadata": {},
   "outputs": [],
   "source": [
    "\n",
    "# Set DEVELOPER_KEY to the API key value from the APIs & auth > Registered apps\n",
    "# tab of\n",
    "#   https://cloud.google.com/console\n",
    "# Please ensure that you have enabled the YouTube Data API for your project.\n",
    "DEVELOPER_KEY = \"PRIVATE"\n",
    "YOUTUBE_API_SERVICE_NAME = \"youtube\"\n",
    "YOUTUBE_API_VERSION = \"v3\"\n",
    "\n",
    "def youtube_search(options):\n",
    "  youtube = build(YOUTUBE_API_SERVICE_NAME, YOUTUBE_API_VERSION,\n",
    "    developerKey=DEVELOPER_KEY)\n",
    "\n",
    "  # Call the search.list method to retrieve results matching the specified\n",
    "  # query term.\n",
    "  search_response = youtube.search().list(\n",
    "    q=options.q,\n",
    "    part=\"id,snippet\",\n",
    "    maxResults=options.max_results\n",
    "  ).execute()\n",
    "\n",
    "  videos = []\n",
    "  channels = []\n",
    "  playlists = []\n",
    "\n",
    "  # Add each result to the appropriate list, and then display the lists of\n",
    "  # matching videos, channels, and playlists.\n",
    "  for search_result in search_response.get(\"items\", []):\n",
    "    if search_result[\"id\"][\"kind\"] == \"youtube#video\":\n",
    "      videos.append(\"%s (%s)\" % (search_result[\"snippet\"][\"title\"],\n",
    "                                 search_result[\"id\"][\"videoId\"]))\n",
    "    elif search_result[\"id\"][\"kind\"] == \"youtube#channel\":\n",
    "      channels.append(\"%s (%s)\" % (search_result[\"snippet\"][\"title\"],\n",
    "                                   search_result[\"id\"][\"channelId\"]))\n",
    "    elif search_result[\"id\"][\"kind\"] == \"youtube#playlist\":\n",
    "      playlists.append(\"%s (%s)\" % (search_result[\"snippet\"][\"title\"],\n",
    "                                    search_result[\"id\"][\"playlistId\"]))\n",
    "\n",
    "  print \"Videos:\\n\", \"\\n\".join(videos), \"\\n\"\n",
    "  print \"Channels:\\n\", \"\\n\".join(channels), \"\\n\"\n",
    "  print \"Playlists:\\n\", \"\\n\".join(playlists), \"\\n\"\n",
    "\n",
    "\n",
    "if __name__ == \"__main__\":\n",
    "  argparser.add_argument(\"--q\", help=\"Search term\", default=\"Google\")\n",
    "  argparser.add_argument(\"--max-results\", help=\"Max results\", default=25)\n",
    "  args = argparser.parse_args()\n",
    "\n",
    "  try:\n",
    "    youtube_search(args)\n",
    "  except HttpError, e:\n",
    "    print \"An HTTP error %d occurred:\\n%s\" % (e.resp.status, e.content)"
   ]
  }
 ],
 "metadata": {
  "kernelspec": {
   "display_name": ".venv",
   "language": "python",
   "name": "python3"
  },
  "language_info": {
   "codemirror_mode": {
    "name": "ipython",
    "version": 3
   },
   "file_extension": ".py",
   "mimetype": "text/x-python",
   "name": "python",
   "nbconvert_exporter": "python",
   "pygments_lexer": "ipython3",
   "version": "3.9.13"
  },
  "orig_nbformat": 4,
  "vscode": {
   "interpreter": {
    "hash": "f6944cccf7b51d39dd9493d52d986e1405ecd4cab2980d894c118e6dfbf98e1e"
   }
  }
 },
 "nbformat": 4,
 "nbformat_minor": 2
}
