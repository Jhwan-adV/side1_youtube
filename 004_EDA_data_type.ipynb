{
 "cells": [
  {
   "attachments": {},
   "cell_type": "markdown",
   "metadata": {},
   "source": [
    "### 0. Module Import & Functions\n"
   ]
  },
  {
   "cell_type": "code",
   "execution_count": 1,
   "metadata": {},
   "outputs": [],
   "source": [
    "import pandas as pd\n",
    "\n",
    "import seaborn as sns\n",
    "import matplotlib.pyplot as plt\n",
    "\n",
    "from matplotlib import font_manager, rc\n",
    "rc(\"font\", family = font_manager.FontProperties(fname=\"C:/Windows/Fonts/KoPubWorld Dotum_Pro Medium.otf\").get_name())\n",
    "\n",
    "get_ipython().run_line_magic('matplotlib', 'inline')"
   ]
  },
  {
   "cell_type": "code",
   "execution_count": 2,
   "metadata": {},
   "outputs": [],
   "source": [
    "# Function (1) - Unnamed: 0 제거해 dataframe 출력\n",
    "\n",
    "def read_csv(directory):\n",
    "    df = pd.read_csv(directory, encoding='utf-8')\n",
    "    df.drop('Unnamed: 0', axis=1, inplace=True)\n",
    "    return df\n"
   ]
  },
  {
   "attachments": {},
   "cell_type": "markdown",
   "metadata": {},
   "source": []
  },
  {
   "attachments": {},
   "cell_type": "markdown",
   "metadata": {},
   "source": [
    "### 1. CSV Data read\n",
    "\n",
    "    - 일자별로 기록된 csv 데이터 통합 필요\n",
    "    - 일자별로 기록할 때 한 DB로 가게 하면 더 좋다"
   ]
  },
  {
   "cell_type": "code",
   "execution_count": 3,
   "metadata": {},
   "outputs": [
    {
     "data": {
      "text/html": [
       "<div>\n",
       "<style scoped>\n",
       "    .dataframe tbody tr th:only-of-type {\n",
       "        vertical-align: middle;\n",
       "    }\n",
       "\n",
       "    .dataframe tbody tr th {\n",
       "        vertical-align: top;\n",
       "    }\n",
       "\n",
       "    .dataframe thead th {\n",
       "        text-align: right;\n",
       "    }\n",
       "</style>\n",
       "<table border=\"1\" class=\"dataframe\">\n",
       "  <thead>\n",
       "    <tr style=\"text-align: right;\">\n",
       "      <th></th>\n",
       "      <th>title</th>\n",
       "      <th>channel</th>\n",
       "      <th>running_time</th>\n",
       "      <th>watch_date</th>\n",
       "      <th>watch_time</th>\n",
       "      <th>category_id</th>\n",
       "      <th>category_title</th>\n",
       "      <th>watched (%)</th>\n",
       "      <th>account</th>\n",
       "    </tr>\n",
       "  </thead>\n",
       "  <tbody>\n",
       "    <tr>\n",
       "      <th>0</th>\n",
       "      <td>[여의도] 연봉 얼마 받으세요? | 직무,연차별 현실 연봉④</td>\n",
       "      <td>캐치TV</td>\n",
       "      <td>3:39</td>\n",
       "      <td>2023-02-19</td>\n",
       "      <td>오전 9:49</td>\n",
       "      <td>27</td>\n",
       "      <td>Education</td>\n",
       "      <td>1.00</td>\n",
       "      <td>woghks.study</td>\n",
       "    </tr>\n",
       "    <tr>\n",
       "      <th>1</th>\n",
       "      <td>몇 년째 인생이 달라진 게 없다면</td>\n",
       "      <td>말많은소녀</td>\n",
       "      <td>10:57</td>\n",
       "      <td>2023-02-19</td>\n",
       "      <td>오전 9:44</td>\n",
       "      <td>27</td>\n",
       "      <td>Education</td>\n",
       "      <td>1.00</td>\n",
       "      <td>woghks.study</td>\n",
       "    </tr>\n",
       "    <tr>\n",
       "      <th>2</th>\n",
       "      <td>[한눈에 이슈] \"그동안 감사했습니다...지금까지 대한민국이었습니다\" 이 말이 곧 ...</td>\n",
       "      <td>KBS News</td>\n",
       "      <td>17:39</td>\n",
       "      <td>2023-02-19</td>\n",
       "      <td>오전 9:39</td>\n",
       "      <td>25</td>\n",
       "      <td>News &amp; Politics</td>\n",
       "      <td>0.77</td>\n",
       "      <td>woghks.study</td>\n",
       "    </tr>\n",
       "    <tr>\n",
       "      <th>3</th>\n",
       "      <td>(30대 중반이 말하는) 돈과 진로에 관해 20대가 착각하는 것들</td>\n",
       "      <td>드로우앤드류</td>\n",
       "      <td>15:02</td>\n",
       "      <td>2023-02-19</td>\n",
       "      <td>오전 9:30</td>\n",
       "      <td>27</td>\n",
       "      <td>Education</td>\n",
       "      <td>1.00</td>\n",
       "      <td>woghks.study</td>\n",
       "    </tr>\n",
       "    <tr>\n",
       "      <th>4</th>\n",
       "      <td>이건 정말 아닌 것 같습니다.</td>\n",
       "      <td>북토크</td>\n",
       "      <td>11:46</td>\n",
       "      <td>2023-02-19</td>\n",
       "      <td>오전 9:28</td>\n",
       "      <td>22</td>\n",
       "      <td>People &amp; Blogs</td>\n",
       "      <td>0.36</td>\n",
       "      <td>woghks.study</td>\n",
       "    </tr>\n",
       "  </tbody>\n",
       "</table>\n",
       "</div>"
      ],
      "text/plain": [
       "                                               title   channel running_time  \\\n",
       "0                  [여의도] 연봉 얼마 받으세요? | 직무,연차별 현실 연봉④      캐치TV         3:39   \n",
       "1                                 몇 년째 인생이 달라진 게 없다면     말많은소녀        10:57   \n",
       "2  [한눈에 이슈] \"그동안 감사했습니다...지금까지 대한민국이었습니다\" 이 말이 곧 ...  KBS News        17:39   \n",
       "3               (30대 중반이 말하는) 돈과 진로에 관해 20대가 착각하는 것들    드로우앤드류        15:02   \n",
       "4                                   이건 정말 아닌 것 같습니다.       북토크        11:46   \n",
       "\n",
       "   watch_date watch_time  category_id   category_title  watched (%)  \\\n",
       "0  2023-02-19    오전 9:49           27        Education         1.00   \n",
       "1  2023-02-19    오전 9:44           27        Education         1.00   \n",
       "2  2023-02-19    오전 9:39           25  News & Politics         0.77   \n",
       "3  2023-02-19    오전 9:30           27        Education         1.00   \n",
       "4  2023-02-19    오전 9:28           22   People & Blogs         0.36   \n",
       "\n",
       "        account  \n",
       "0  woghks.study  \n",
       "1  woghks.study  \n",
       "2  woghks.study  \n",
       "3  woghks.study  \n",
       "4  woghks.study  "
      ]
     },
     "execution_count": 3,
     "metadata": {},
     "output_type": "execute_result"
    }
   ],
   "source": [
    "df_initial = read_csv('data/230219_watch_record_initial.csv')\n",
    "df_initial.head()\n"
   ]
  },
  {
   "attachments": {},
   "cell_type": "markdown",
   "metadata": {},
   "source": [
    "### 2. 시청 기록 EDA - 단일 column"
   ]
  },
  {
   "cell_type": "code",
   "execution_count": 4,
   "metadata": {},
   "outputs": [
    {
     "name": "stdout",
     "output_type": "stream",
     "text": [
      "<class 'pandas.core.frame.DataFrame'>\n",
      "RangeIndex: 1183 entries, 0 to 1182\n",
      "Data columns (total 9 columns):\n",
      " #   Column          Non-Null Count  Dtype  \n",
      "---  ------          --------------  -----  \n",
      " 0   title           1183 non-null   object \n",
      " 1   channel         1183 non-null   object \n",
      " 2   running_time    1183 non-null   object \n",
      " 3   watch_date      1183 non-null   object \n",
      " 4   watch_time      1183 non-null   object \n",
      " 5   category_id     1183 non-null   int64  \n",
      " 6   category_title  1183 non-null   object \n",
      " 7   watched (%)     1183 non-null   float64\n",
      " 8   account         1183 non-null   object \n",
      "dtypes: float64(1), int64(1), object(7)\n",
      "memory usage: 83.3+ KB\n"
     ]
    },
    {
     "data": {
      "text/plain": [
       "'총 1182개 record 확인, watch_date/watch_time 등 시간 날짝 객체 변환 필요'"
      ]
     },
     "execution_count": 4,
     "metadata": {},
     "output_type": "execute_result"
    }
   ],
   "source": [
    "df_initial.info()\n",
    "\n",
    "\"\"\"총 1182개 record 확인, watch_date/watch_time 등 시간 날짝 객체 변환 필요\"\"\"\n"
   ]
  },
  {
   "attachments": {},
   "cell_type": "markdown",
   "metadata": {},
   "source": [
    "##### 0. title"
   ]
  },
  {
   "cell_type": "code",
   "execution_count": 5,
   "metadata": {},
   "outputs": [
    {
     "name": "stdout",
     "output_type": "stream",
     "text": [
      "1128\n"
     ]
    },
    {
     "data": {
      "text/plain": [
       "'1182개 중 고유 영상 수 1128개, 중복해서 본 영상이 있다. 어떤 영상을 중복해서 봤을까?**'"
      ]
     },
     "execution_count": 5,
     "metadata": {},
     "output_type": "execute_result"
    }
   ],
   "source": [
    "print(len(df_initial['title'].unique()))\n",
    "\n",
    "\"\"\"1182개 중 고유 영상 수 1128개, 중복해서 본 영상이 있다. 어떤 영상을 중복해서 봤을까?**\"\"\"\n"
   ]
  },
  {
   "cell_type": "code",
   "execution_count": 6,
   "metadata": {},
   "outputs": [
    {
     "name": "stdout",
     "output_type": "stream",
     "text": [
      "Mean, Median, and Mode: Measures of Central Tendency: Crash Course Statistics #3            7\n",
      "Probability Part 2: Updating Your Beliefs with Bayes: Crash Course Statistics #14           4\n",
      "[문명6] 간디로 전세계 불가사의 지으면서 외교패왕이 되어보자🤝 (Sid Meier's Civilization® VI: Gathering Storm)         3\n",
      "[EBS 다큐프라임] 게임에 진심인 편 1부 - 내 장례식에 틀어줘                                                       3\n",
      "Stanford CS224N: NLP with Deep Learning | Winter 2021 | Lecture 1 - Intro & Word Vectors    3\n",
      "인간 시대의 끝이 도래했다                                                                              3\n",
      "The Shape of Data: Distributions: Crash Course Statistics #7                                3\n",
      "후회없이 회사를 선택하는 기준                                                                   2\n",
      "Yeseul interview INFJ 1920 1080                                                             2\n",
      "워치 공장초기화 하기(워치에서) :: 토트넘 스마트워치 시즌2 / 라이프 스마트워치                                              2\n",
      "Name: title, dtype: int64\n"
     ]
    },
    {
     "data": {
      "text/plain": [
       "'한번에 이해하지 못했던 통계 영상부터 다양하다. 2회 이상 본 영상의 갯수는?'"
      ]
     },
     "execution_count": 6,
     "metadata": {},
     "output_type": "execute_result"
    }
   ],
   "source": [
    "print(df_initial['title'].value_counts()[:10])\n",
    "\n",
    "\"\"\"한번에 이해하지 못했던 통계 영상부터 다양하다. 2회 이상 본 영상의 갯수는?\"\"\"\n"
   ]
  },
  {
   "cell_type": "code",
   "execution_count": 7,
   "metadata": {},
   "outputs": [
    {
     "name": "stdout",
     "output_type": "stream",
     "text": [
      "여기에 패턴이 있을까? 패턴을 파악하려면 어떤 정보가 더 필요할까?\n",
      "이 영상들은 왜 두번 이상씩 봤을까?\n"
     ]
    },
    {
     "data": {
      "text/html": [
       "<div>\n",
       "<style scoped>\n",
       "    .dataframe tbody tr th:only-of-type {\n",
       "        vertical-align: middle;\n",
       "    }\n",
       "\n",
       "    .dataframe tbody tr th {\n",
       "        vertical-align: top;\n",
       "    }\n",
       "\n",
       "    .dataframe thead th {\n",
       "        text-align: right;\n",
       "    }\n",
       "</style>\n",
       "<table border=\"1\" class=\"dataframe\">\n",
       "  <thead>\n",
       "    <tr style=\"text-align: right;\">\n",
       "      <th></th>\n",
       "      <th>Title</th>\n",
       "      <th>watch_cnt</th>\n",
       "    </tr>\n",
       "  </thead>\n",
       "  <tbody>\n",
       "    <tr>\n",
       "      <th>0</th>\n",
       "      <td>Mean, Median, and Mode: Measures of Central Te...</td>\n",
       "      <td>7</td>\n",
       "    </tr>\n",
       "    <tr>\n",
       "      <th>1</th>\n",
       "      <td>Probability Part 2: Updating Your Beliefs with...</td>\n",
       "      <td>4</td>\n",
       "    </tr>\n",
       "    <tr>\n",
       "      <th>2</th>\n",
       "      <td>[문명6] 간디로 전세계 불가사의 지으면서 외교패왕이 되어보자🤝 (Sid Meier...</td>\n",
       "      <td>3</td>\n",
       "    </tr>\n",
       "    <tr>\n",
       "      <th>3</th>\n",
       "      <td>[EBS 다큐프라임] 게임에 진심인 편 1부 - 내 장례식에 틀어줘</td>\n",
       "      <td>3</td>\n",
       "    </tr>\n",
       "    <tr>\n",
       "      <th>4</th>\n",
       "      <td>Stanford CS224N: NLP with Deep Learning | Wint...</td>\n",
       "      <td>3</td>\n",
       "    </tr>\n",
       "    <tr>\n",
       "      <th>5</th>\n",
       "      <td>인간 시대의 끝이 도래했다</td>\n",
       "      <td>3</td>\n",
       "    </tr>\n",
       "    <tr>\n",
       "      <th>6</th>\n",
       "      <td>The Shape of Data: Distributions: Crash Course...</td>\n",
       "      <td>3</td>\n",
       "    </tr>\n",
       "    <tr>\n",
       "      <th>7</th>\n",
       "      <td>후회없이 회사를 선택하는 기준</td>\n",
       "      <td>2</td>\n",
       "    </tr>\n",
       "    <tr>\n",
       "      <th>8</th>\n",
       "      <td>Yeseul interview INFJ 1920 1080</td>\n",
       "      <td>2</td>\n",
       "    </tr>\n",
       "    <tr>\n",
       "      <th>9</th>\n",
       "      <td>워치 공장초기화 하기(워치에서) :: 토트넘 스마트워치 시즌2 / 라이프 스마트워치</td>\n",
       "      <td>2</td>\n",
       "    </tr>\n",
       "    <tr>\n",
       "      <th>10</th>\n",
       "      <td>What Is Statistics: Crash Course Statistics #1</td>\n",
       "      <td>2</td>\n",
       "    </tr>\n",
       "    <tr>\n",
       "      <th>11</th>\n",
       "      <td>'트렌드' 쫓지 말고 'OO'에 주목하세요 : 송길영의 2023 트렌드 분석</td>\n",
       "      <td>2</td>\n",
       "    </tr>\n",
       "    <tr>\n",
       "      <th>12</th>\n",
       "      <td>Henrietta Lacks, the Tuskegee Experiment, and ...</td>\n",
       "      <td>2</td>\n",
       "    </tr>\n",
       "    <tr>\n",
       "      <th>13</th>\n",
       "      <td>역대 최고의 게임 다큐멘터리 리뷰: EBS 게임에 진심인 편</td>\n",
       "      <td>2</td>\n",
       "    </tr>\n",
       "    <tr>\n",
       "      <th>14</th>\n",
       "      <td>나에게 맞는 직장을 정하는 기준 | 힘들다고 아무데나 가면 더 힘들어짐. [취린이 ...</td>\n",
       "      <td>2</td>\n",
       "    </tr>\n",
       "    <tr>\n",
       "      <th>15</th>\n",
       "      <td>[EBS 다큐프라임] 게임에 진심인 편 3부 - 근데 이제 예술을 곁들인</td>\n",
       "      <td>2</td>\n",
       "    </tr>\n",
       "    <tr>\n",
       "      <th>16</th>\n",
       "      <td>Focus On Learning and Creating Rather Than Ent...</td>\n",
       "      <td>2</td>\n",
       "    </tr>\n",
       "    <tr>\n",
       "      <th>17</th>\n",
       "      <td>Measures of Spread: Crash Course Statistics #4</td>\n",
       "      <td>2</td>\n",
       "    </tr>\n",
       "    <tr>\n",
       "      <th>18</th>\n",
       "      <td>Why I Choose Web3 Rather Than Big Tech | Sisun...</td>\n",
       "      <td>2</td>\n",
       "    </tr>\n",
       "    <tr>\n",
       "      <th>19</th>\n",
       "      <td>밥 줘</td>\n",
       "      <td>2</td>\n",
       "    </tr>\n",
       "    <tr>\n",
       "      <th>20</th>\n",
       "      <td>프리시즌 쇼진 마스터이 첫판 바로 21킬 찍고 학살극 / Korean MasterYi</td>\n",
       "      <td>2</td>\n",
       "    </tr>\n",
       "    <tr>\n",
       "      <th>21</th>\n",
       "      <td>[부의 추월차선] 100번 읽은 것처럼 만들어드림</td>\n",
       "      <td>2</td>\n",
       "    </tr>\n",
       "    <tr>\n",
       "      <th>22</th>\n",
       "      <td>브로커 [간절구조대]</td>\n",
       "      <td>2</td>\n",
       "    </tr>\n",
       "    <tr>\n",
       "      <th>23</th>\n",
       "      <td>Tableau BUFFER functions - a complete TUTORIAL...</td>\n",
       "      <td>2</td>\n",
       "    </tr>\n",
       "    <tr>\n",
       "      <th>24</th>\n",
       "      <td>Ep(189) 코딩, 글쓰기, 심지어 인생 상담도 잘하는 챗봇 ChatGPT 파헤치기</td>\n",
       "      <td>2</td>\n",
       "    </tr>\n",
       "    <tr>\n",
       "      <th>25</th>\n",
       "      <td>(ko)불확실과 불안의 시대 누가 나를 보호할 수 있을까 | 박경숙 서울대학교 사회...</td>\n",
       "      <td>2</td>\n",
       "    </tr>\n",
       "    <tr>\n",
       "      <th>26</th>\n",
       "      <td>[한눈에 이슈] '상황이 이렇게 바뀌다니'…다이내믹한 전세 시장 / KBS 2023...</td>\n",
       "      <td>2</td>\n",
       "    </tr>\n",
       "    <tr>\n",
       "      <th>27</th>\n",
       "      <td>☀️ vs 🌕️ | T1 vs. 디플기아 게임3 하이라이트 | 01.28 | 202...</td>\n",
       "      <td>2</td>\n",
       "    </tr>\n",
       "    <tr>\n",
       "      <th>28</th>\n",
       "      <td>Introduction and Welcome | Stanford CS224U Nat...</td>\n",
       "      <td>2</td>\n",
       "    </tr>\n",
       "    <tr>\n",
       "      <th>29</th>\n",
       "      <td>구마유시 기강잡는 페이커 (feat. 페초리)</td>\n",
       "      <td>2</td>\n",
       "    </tr>\n",
       "    <tr>\n",
       "      <th>30</th>\n",
       "      <td>Course Overview | Stanford CS224U Natural Lang...</td>\n",
       "      <td>2</td>\n",
       "    </tr>\n",
       "    <tr>\n",
       "      <th>31</th>\n",
       "      <td>안녕하세요. 호갱구조대 입니다.</td>\n",
       "      <td>2</td>\n",
       "    </tr>\n",
       "    <tr>\n",
       "      <th>32</th>\n",
       "      <td>Probability Part 1: Rules and Patterns: Crash ...</td>\n",
       "      <td>2</td>\n",
       "    </tr>\n",
       "    <tr>\n",
       "      <th>33</th>\n",
       "      <td>[상인의 전설] 10000원으로 시작해서 재벌집 상인 아들이 되어보자! 과몰입 레전...</td>\n",
       "      <td>2</td>\n",
       "    </tr>\n",
       "    <tr>\n",
       "      <th>34</th>\n",
       "      <td>Ep(193) Data Engineer 로드맵 톺아보기</td>\n",
       "      <td>2</td>\n",
       "    </tr>\n",
       "    <tr>\n",
       "      <th>35</th>\n",
       "      <td>딥러닝을 이용한 자연어처리 입문 7시간 완성 - [서울대 박사 SCI(E)급 논문 7편]</td>\n",
       "      <td>2</td>\n",
       "    </tr>\n",
       "    <tr>\n",
       "      <th>36</th>\n",
       "      <td>메이플이 밸패를 ㅈㄴ 답답하게 하는 이유 [메이플스토리 내부데이터 기반 밸런스패치]</td>\n",
       "      <td>2</td>\n",
       "    </tr>\n",
       "    <tr>\n",
       "      <th>37</th>\n",
       "      <td>던파가 어딜 감히 [G식의 밤 2시즌 던파 #2]</td>\n",
       "      <td>2</td>\n",
       "    </tr>\n",
       "    <tr>\n",
       "      <th>38</th>\n",
       "      <td>[#티전드] '이것'은 선택이 아닌 필수다❓ 성공이 고픈 사람들을 위한 지혜로운 습...</td>\n",
       "      <td>2</td>\n",
       "    </tr>\n",
       "    <tr>\n",
       "      <th>39</th>\n",
       "      <td>Ep(194) Data Engineer 로드맵 톺아보기2</td>\n",
       "      <td>2</td>\n",
       "    </tr>\n",
       "    <tr>\n",
       "      <th>40</th>\n",
       "      <td>롤드컵이 월드컵이 될 수 없는 결정적인 이유!! [ G식의밤 시즌3 스타 vs LO...</td>\n",
       "      <td>2</td>\n",
       "    </tr>\n",
       "    <tr>\n",
       "      <th>41</th>\n",
       "      <td>드디어 미친 넥슨 feat.지스타 [신작 TOP9]</td>\n",
       "      <td>2</td>\n",
       "    </tr>\n",
       "    <tr>\n",
       "      <th>42</th>\n",
       "      <td>안 들킬 줄 알았나요?</td>\n",
       "      <td>2</td>\n",
       "    </tr>\n",
       "  </tbody>\n",
       "</table>\n",
       "</div>"
      ],
      "text/plain": [
       "                                                Title  watch_cnt\n",
       "0   Mean, Median, and Mode: Measures of Central Te...          7\n",
       "1   Probability Part 2: Updating Your Beliefs with...          4\n",
       "2   [문명6] 간디로 전세계 불가사의 지으면서 외교패왕이 되어보자🤝 (Sid Meier...          3\n",
       "3               [EBS 다큐프라임] 게임에 진심인 편 1부 - 내 장례식에 틀어줘          3\n",
       "4   Stanford CS224N: NLP with Deep Learning | Wint...          3\n",
       "5                                      인간 시대의 끝이 도래했다          3\n",
       "6   The Shape of Data: Distributions: Crash Course...          3\n",
       "7                           후회없이 회사를 선택하는 기준          2\n",
       "8                     Yeseul interview INFJ 1920 1080          2\n",
       "9      워치 공장초기화 하기(워치에서) :: 토트넘 스마트워치 시즌2 / 라이프 스마트워치          2\n",
       "10     What Is Statistics: Crash Course Statistics #1          2\n",
       "11         '트렌드' 쫓지 말고 'OO'에 주목하세요 : 송길영의 2023 트렌드 분석          2\n",
       "12  Henrietta Lacks, the Tuskegee Experiment, and ...          2\n",
       "13                  역대 최고의 게임 다큐멘터리 리뷰: EBS 게임에 진심인 편          2\n",
       "14  나에게 맞는 직장을 정하는 기준 | 힘들다고 아무데나 가면 더 힘들어짐. [취린이 ...          2\n",
       "15           [EBS 다큐프라임] 게임에 진심인 편 3부 - 근데 이제 예술을 곁들인          2\n",
       "16  Focus On Learning and Creating Rather Than Ent...          2\n",
       "17     Measures of Spread: Crash Course Statistics #4          2\n",
       "18  Why I Choose Web3 Rather Than Big Tech | Sisun...          2\n",
       "19                                                밥 줘          2\n",
       "20    프리시즌 쇼진 마스터이 첫판 바로 21킬 찍고 학살극 / Korean MasterYi          2\n",
       "21                        [부의 추월차선] 100번 읽은 것처럼 만들어드림          2\n",
       "22                                        브로커 [간절구조대]          2\n",
       "23  Tableau BUFFER functions - a complete TUTORIAL...          2\n",
       "24    Ep(189) 코딩, 글쓰기, 심지어 인생 상담도 잘하는 챗봇 ChatGPT 파헤치기          2\n",
       "25  (ko)불확실과 불안의 시대 누가 나를 보호할 수 있을까 | 박경숙 서울대학교 사회...          2\n",
       "26  [한눈에 이슈] '상황이 이렇게 바뀌다니'…다이내믹한 전세 시장 / KBS 2023...          2\n",
       "27  ☀️ vs 🌕️ | T1 vs. 디플기아 게임3 하이라이트 | 01.28 | 202...          2\n",
       "28  Introduction and Welcome | Stanford CS224U Nat...          2\n",
       "29                          구마유시 기강잡는 페이커 (feat. 페초리)          2\n",
       "30  Course Overview | Stanford CS224U Natural Lang...          2\n",
       "31                                  안녕하세요. 호갱구조대 입니다.          2\n",
       "32  Probability Part 1: Rules and Patterns: Crash ...          2\n",
       "33  [상인의 전설] 10000원으로 시작해서 재벌집 상인 아들이 되어보자! 과몰입 레전...          2\n",
       "34                     Ep(193) Data Engineer 로드맵 톺아보기          2\n",
       "35  딥러닝을 이용한 자연어처리 입문 7시간 완성 - [서울대 박사 SCI(E)급 논문 7편]          2\n",
       "36     메이플이 밸패를 ㅈㄴ 답답하게 하는 이유 [메이플스토리 내부데이터 기반 밸런스패치]          2\n",
       "37                        던파가 어딜 감히 [G식의 밤 2시즌 던파 #2]          2\n",
       "38  [#티전드] '이것'은 선택이 아닌 필수다❓ 성공이 고픈 사람들을 위한 지혜로운 습...          2\n",
       "39                    Ep(194) Data Engineer 로드맵 톺아보기2          2\n",
       "40  롤드컵이 월드컵이 될 수 없는 결정적인 이유!! [ G식의밤 시즌3 스타 vs LO...          2\n",
       "41                       드디어 미친 넥슨 feat.지스타 [신작 TOP9]          2\n",
       "42                                       안 들킬 줄 알았나요?          2"
      ]
     },
     "execution_count": 7,
     "metadata": {},
     "output_type": "execute_result"
    }
   ],
   "source": [
    "title_counts = df_initial['title'].value_counts()\n",
    "dict = {}\n",
    "for idx, count in enumerate(title_counts):\n",
    "    if count >= 2:\n",
    "        dict[idx] = [title_counts.index[idx], count]\n",
    "    else:\n",
    "        break\n",
    "\n",
    "print(\"\"\"여기에 패턴이 있을까? 패턴을 파악하려면 어떤 정보가 더 필요할까?\"\"\")\n",
    "print(\"\"\"이 영상들은 왜 두번 이상씩 봤을까?\"\"\")\n",
    "\n",
    "df_title = pd.DataFrame(data=dict.values(), index=dict.keys(), columns=['Title', 'watch_cnt'])\n",
    "df_title\n"
   ]
  },
  {
   "attachments": {},
   "cell_type": "markdown",
   "metadata": {},
   "source": [
    "##### 1. channel"
   ]
  },
  {
   "cell_type": "code",
   "execution_count": 8,
   "metadata": {},
   "outputs": [
    {
     "data": {
      "text/plain": [
       "'1128개 영상을 388개 채널에서 시청 \\n 어떤 채널에서 가장 많이 시청했을까?'"
      ]
     },
     "execution_count": 8,
     "metadata": {},
     "output_type": "execute_result"
    }
   ],
   "source": [
    "# 시청 채널 EDA\n",
    "\n",
    "channels = df_initial['channel'].unique()\n",
    "len(channels)\n",
    "\n",
    "\"\"\"1128개 영상을 388개 채널에서 시청 \\n 어떤 채널에서 가장 많이 시청했을까?\"\"\""
   ]
  },
  {
   "cell_type": "code",
   "execution_count": 9,
   "metadata": {},
   "outputs": [
    {
     "name": "stdout",
     "output_type": "stream",
     "text": [
      "면접왕 이형                39\n",
      "CrashCourse           34\n",
      "LCK                   30\n",
      "JTBC News             29\n",
      "김성회의 G식백과             27\n",
      "MBCNEWS               25\n",
      "KBS News              21\n",
      " YTN                  21\n",
      "세바시 강연 Sebasi Talk    18\n",
      "퇴사한 이형                17\n",
      "Name: channel, dtype: int64\n"
     ]
    },
    {
     "data": {
      "text/plain": [
       "'면접왕 이형, crashcourse, lck, G식백과 등 취준, 게임, 뉴스 영상으로 정리된다.'"
      ]
     },
     "execution_count": 9,
     "metadata": {},
     "output_type": "execute_result"
    }
   ],
   "source": [
    "# 채널별 시청 기록 확인\n",
    "\n",
    "data_channel = df_initial['channel'].value_counts()\n",
    "print(data_channel[:10])\n",
    "    \n",
    "\"\"\"면접왕 이형, crashcourse, lck, G식백과 등 취준, 게임, 뉴스 영상으로 정리된다.\"\"\""
   ]
  },
  {
   "cell_type": "code",
   "execution_count": 10,
   "metadata": {},
   "outputs": [
    {
     "data": {
      "image/png": "[encoded data removed]",
      "text/plain": [
       "<Figure size 2500x800 with 1 Axes>"
      ]
     },
     "metadata": {},
     "output_type": "display_data"
    },
    {
     "data": {
      "text/plain": [
       "'카테고리 별로 다른 색상을 갖게 하는 것도 좋겠다. \\n Text 겹치지 않도록 하려면?'"
      ]
     },
     "execution_count": 10,
     "metadata": {},
     "output_type": "execute_result"
    }
   ],
   "source": [
    "# 채널별 시청기록 TOP n 확인\n",
    "num = int(input(\"채널 TOP N을 시작합니다. N을 입력하세요\"))\n",
    "target_data = data_channel[:num]\n",
    "\n",
    "# Title을 위한 변수\n",
    "account = df_initial['account'][0]\n",
    "\n",
    "plt.figure(figsize=(25,8))\n",
    "plt.title(f\"{account} 계정, 시청 채널 TOP {num}\", size=25)\n",
    "sns.barplot(x=target_data.index, y=target_data.values)\n",
    "plt.show()\n",
    "\n",
    "\"\"\"카테고리 별로 다른 색상을 갖게 하는 것도 좋겠다. \\n Text 겹치지 않도록 하려면? \\n 몇 회 이상인 것만 볼 수 있나?\"\"\"\n"
   ]
  },
  {
   "cell_type": "code",
   "execution_count": 11,
   "metadata": {},
   "outputs": [
    {
     "name": "stdout",
     "output_type": "stream",
     "text": [
      "<class 'pandas.core.frame.DataFrame'>\n",
      "RangeIndex: 1183 entries, 0 to 1182\n",
      "Data columns (total 9 columns):\n",
      " #   Column          Non-Null Count  Dtype  \n",
      "---  ------          --------------  -----  \n",
      " 0   title           1183 non-null   object \n",
      " 1   channel         1183 non-null   object \n",
      " 2   running_time    1183 non-null   object \n",
      " 3   watch_date      1183 non-null   object \n",
      " 4   watch_time      1183 non-null   object \n",
      " 5   category_id     1183 non-null   int64  \n",
      " 6   category_title  1183 non-null   object \n",
      " 7   watched (%)     1183 non-null   float64\n",
      " 8   account         1183 non-null   object \n",
      "dtypes: float64(1), int64(1), object(7)\n",
      "memory usage: 83.3+ KB\n"
     ]
    }
   ],
   "source": [
    "df_initial.info()"
   ]
  },
  {
   "attachments": {},
   "cell_type": "markdown",
   "metadata": {},
   "source": [
    "#### 3. Running_time\n",
    "- 영상 길이 데이터 (str) 만으로는 인사이트 도출이 어렵다.\n",
    "- time_struct로 변환해 연산(비교)가 가능하도록 한다."
   ]
  },
  {
   "cell_type": "code",
   "execution_count": 12,
   "metadata": {},
   "outputs": [
    {
     "data": {
      "text/html": [
       "<div>\n",
       "<style scoped>\n",
       "    .dataframe tbody tr th:only-of-type {\n",
       "        vertical-align: middle;\n",
       "    }\n",
       "\n",
       "    .dataframe tbody tr th {\n",
       "        vertical-align: top;\n",
       "    }\n",
       "\n",
       "    .dataframe thead th {\n",
       "        text-align: right;\n",
       "    }\n",
       "</style>\n",
       "<table border=\"1\" class=\"dataframe\">\n",
       "  <thead>\n",
       "    <tr style=\"text-align: right;\">\n",
       "      <th></th>\n",
       "      <th>title</th>\n",
       "      <th>channel</th>\n",
       "      <th>running_time</th>\n",
       "      <th>watch_date</th>\n",
       "      <th>watch_time</th>\n",
       "      <th>category_id</th>\n",
       "      <th>category_title</th>\n",
       "      <th>watched (%)</th>\n",
       "      <th>account</th>\n",
       "    </tr>\n",
       "  </thead>\n",
       "  <tbody>\n",
       "    <tr>\n",
       "      <th>0</th>\n",
       "      <td>[여의도] 연봉 얼마 받으세요? | 직무,연차별 현실 연봉④</td>\n",
       "      <td>캐치TV</td>\n",
       "      <td>3:39</td>\n",
       "      <td>2023-02-19</td>\n",
       "      <td>오전 9:49</td>\n",
       "      <td>27</td>\n",
       "      <td>Education</td>\n",
       "      <td>1.00</td>\n",
       "      <td>woghks.study</td>\n",
       "    </tr>\n",
       "    <tr>\n",
       "      <th>1</th>\n",
       "      <td>몇 년째 인생이 달라진 게 없다면</td>\n",
       "      <td>말많은소녀</td>\n",
       "      <td>10:57</td>\n",
       "      <td>2023-02-19</td>\n",
       "      <td>오전 9:44</td>\n",
       "      <td>27</td>\n",
       "      <td>Education</td>\n",
       "      <td>1.00</td>\n",
       "      <td>woghks.study</td>\n",
       "    </tr>\n",
       "    <tr>\n",
       "      <th>2</th>\n",
       "      <td>[한눈에 이슈] \"그동안 감사했습니다...지금까지 대한민국이었습니다\" 이 말이 곧 ...</td>\n",
       "      <td>KBS News</td>\n",
       "      <td>17:39</td>\n",
       "      <td>2023-02-19</td>\n",
       "      <td>오전 9:39</td>\n",
       "      <td>25</td>\n",
       "      <td>News &amp; Politics</td>\n",
       "      <td>0.77</td>\n",
       "      <td>woghks.study</td>\n",
       "    </tr>\n",
       "    <tr>\n",
       "      <th>3</th>\n",
       "      <td>(30대 중반이 말하는) 돈과 진로에 관해 20대가 착각하는 것들</td>\n",
       "      <td>드로우앤드류</td>\n",
       "      <td>15:02</td>\n",
       "      <td>2023-02-19</td>\n",
       "      <td>오전 9:30</td>\n",
       "      <td>27</td>\n",
       "      <td>Education</td>\n",
       "      <td>1.00</td>\n",
       "      <td>woghks.study</td>\n",
       "    </tr>\n",
       "    <tr>\n",
       "      <th>4</th>\n",
       "      <td>이건 정말 아닌 것 같습니다.</td>\n",
       "      <td>북토크</td>\n",
       "      <td>11:46</td>\n",
       "      <td>2023-02-19</td>\n",
       "      <td>오전 9:28</td>\n",
       "      <td>22</td>\n",
       "      <td>People &amp; Blogs</td>\n",
       "      <td>0.36</td>\n",
       "      <td>woghks.study</td>\n",
       "    </tr>\n",
       "  </tbody>\n",
       "</table>\n",
       "</div>"
      ],
      "text/plain": [
       "                                               title   channel running_time  \\\n",
       "0                  [여의도] 연봉 얼마 받으세요? | 직무,연차별 현실 연봉④      캐치TV         3:39   \n",
       "1                                 몇 년째 인생이 달라진 게 없다면     말많은소녀        10:57   \n",
       "2  [한눈에 이슈] \"그동안 감사했습니다...지금까지 대한민국이었습니다\" 이 말이 곧 ...  KBS News        17:39   \n",
       "3               (30대 중반이 말하는) 돈과 진로에 관해 20대가 착각하는 것들    드로우앤드류        15:02   \n",
       "4                                   이건 정말 아닌 것 같습니다.       북토크        11:46   \n",
       "\n",
       "   watch_date watch_time  category_id   category_title  watched (%)  \\\n",
       "0  2023-02-19    오전 9:49           27        Education         1.00   \n",
       "1  2023-02-19    오전 9:44           27        Education         1.00   \n",
       "2  2023-02-19    오전 9:39           25  News & Politics         0.77   \n",
       "3  2023-02-19    오전 9:30           27        Education         1.00   \n",
       "4  2023-02-19    오전 9:28           22   People & Blogs         0.36   \n",
       "\n",
       "        account  \n",
       "0  woghks.study  \n",
       "1  woghks.study  \n",
       "2  woghks.study  \n",
       "3  woghks.study  \n",
       "4  woghks.study  "
      ]
     },
     "execution_count": 12,
     "metadata": {},
     "output_type": "execute_result"
    }
   ],
   "source": [
    "# 데이터 수정 보호를 위해 copy 후 진행\n",
    "\n",
    "import copy\n",
    "\n",
    "df_ini_copy = copy.deepcopy(df_initial)\n",
    "df_ini_copy.head()"
   ]
  },
  {
   "cell_type": "code",
   "execution_count": 13,
   "metadata": {},
   "outputs": [],
   "source": [
    "# 시간 판별함수\n",
    "\n",
    "def str_to_time(str):\n",
    "    import time\n",
    "\n",
    "    # 분:초 - len 5 이하\n",
    "    if len(str) <= 5:\n",
    "        return time.strptime(str, \"%M:%S\")\n",
    "\n",
    "    # 시:분:초 - len 8 이하\n",
    "    elif len(str) <= 8:\n",
    "        return time.strptime(str,\"%H:%M:%S\")\n",
    "    \n",
    "    # 일:시:분:초 - len 9 이상\n",
    "    else: \n",
    "        return time.strptime(str, \"%d:%H:%M:%S\")\n",
    "    \"\"\"여기서 24시간 이상으로 할 수는 없나?\"\"\"\n"
   ]
  },
  {
   "cell_type": "code",
   "execution_count": 14,
   "metadata": {},
   "outputs": [
    {
     "data": {
      "text/html": [
       "<div>\n",
       "<style scoped>\n",
       "    .dataframe tbody tr th:only-of-type {\n",
       "        vertical-align: middle;\n",
       "    }\n",
       "\n",
       "    .dataframe tbody tr th {\n",
       "        vertical-align: top;\n",
       "    }\n",
       "\n",
       "    .dataframe thead th {\n",
       "        text-align: right;\n",
       "    }\n",
       "</style>\n",
       "<table border=\"1\" class=\"dataframe\">\n",
       "  <thead>\n",
       "    <tr style=\"text-align: right;\">\n",
       "      <th></th>\n",
       "      <th>title</th>\n",
       "      <th>channel</th>\n",
       "      <th>running_time</th>\n",
       "      <th>watch_date</th>\n",
       "      <th>watch_time</th>\n",
       "      <th>category_id</th>\n",
       "      <th>category_title</th>\n",
       "      <th>watched (%)</th>\n",
       "      <th>account</th>\n",
       "    </tr>\n",
       "  </thead>\n",
       "  <tbody>\n",
       "    <tr>\n",
       "      <th>0</th>\n",
       "      <td>[여의도] 연봉 얼마 받으세요? | 직무,연차별 현실 연봉④</td>\n",
       "      <td>캐치TV</td>\n",
       "      <td>(0, 3, 39)</td>\n",
       "      <td>2023-02-19</td>\n",
       "      <td>오전 9:49</td>\n",
       "      <td>27</td>\n",
       "      <td>Education</td>\n",
       "      <td>1.00</td>\n",
       "      <td>woghks.study</td>\n",
       "    </tr>\n",
       "    <tr>\n",
       "      <th>1</th>\n",
       "      <td>몇 년째 인생이 달라진 게 없다면</td>\n",
       "      <td>말많은소녀</td>\n",
       "      <td>(0, 10, 57)</td>\n",
       "      <td>2023-02-19</td>\n",
       "      <td>오전 9:44</td>\n",
       "      <td>27</td>\n",
       "      <td>Education</td>\n",
       "      <td>1.00</td>\n",
       "      <td>woghks.study</td>\n",
       "    </tr>\n",
       "    <tr>\n",
       "      <th>2</th>\n",
       "      <td>[한눈에 이슈] \"그동안 감사했습니다...지금까지 대한민국이었습니다\" 이 말이 곧 ...</td>\n",
       "      <td>KBS News</td>\n",
       "      <td>(0, 17, 39)</td>\n",
       "      <td>2023-02-19</td>\n",
       "      <td>오전 9:39</td>\n",
       "      <td>25</td>\n",
       "      <td>News &amp; Politics</td>\n",
       "      <td>0.77</td>\n",
       "      <td>woghks.study</td>\n",
       "    </tr>\n",
       "    <tr>\n",
       "      <th>3</th>\n",
       "      <td>(30대 중반이 말하는) 돈과 진로에 관해 20대가 착각하는 것들</td>\n",
       "      <td>드로우앤드류</td>\n",
       "      <td>(0, 15, 2)</td>\n",
       "      <td>2023-02-19</td>\n",
       "      <td>오전 9:30</td>\n",
       "      <td>27</td>\n",
       "      <td>Education</td>\n",
       "      <td>1.00</td>\n",
       "      <td>woghks.study</td>\n",
       "    </tr>\n",
       "    <tr>\n",
       "      <th>4</th>\n",
       "      <td>이건 정말 아닌 것 같습니다.</td>\n",
       "      <td>북토크</td>\n",
       "      <td>(0, 11, 46)</td>\n",
       "      <td>2023-02-19</td>\n",
       "      <td>오전 9:28</td>\n",
       "      <td>22</td>\n",
       "      <td>People &amp; Blogs</td>\n",
       "      <td>0.36</td>\n",
       "      <td>woghks.study</td>\n",
       "    </tr>\n",
       "  </tbody>\n",
       "</table>\n",
       "</div>"
      ],
      "text/plain": [
       "                                               title   channel running_time  \\\n",
       "0                  [여의도] 연봉 얼마 받으세요? | 직무,연차별 현실 연봉④      캐치TV   (0, 3, 39)   \n",
       "1                                 몇 년째 인생이 달라진 게 없다면     말많은소녀  (0, 10, 57)   \n",
       "2  [한눈에 이슈] \"그동안 감사했습니다...지금까지 대한민국이었습니다\" 이 말이 곧 ...  KBS News  (0, 17, 39)   \n",
       "3               (30대 중반이 말하는) 돈과 진로에 관해 20대가 착각하는 것들    드로우앤드류   (0, 15, 2)   \n",
       "4                                   이건 정말 아닌 것 같습니다.       북토크  (0, 11, 46)   \n",
       "\n",
       "   watch_date watch_time  category_id   category_title  watched (%)  \\\n",
       "0  2023-02-19    오전 9:49           27        Education         1.00   \n",
       "1  2023-02-19    오전 9:44           27        Education         1.00   \n",
       "2  2023-02-19    오전 9:39           25  News & Politics         0.77   \n",
       "3  2023-02-19    오전 9:30           27        Education         1.00   \n",
       "4  2023-02-19    오전 9:28           22   People & Blogs         0.36   \n",
       "\n",
       "        account  \n",
       "0  woghks.study  \n",
       "1  woghks.study  \n",
       "2  woghks.study  \n",
       "3  woghks.study  \n",
       "4  woghks.study  "
      ]
     },
     "execution_count": 14,
     "metadata": {},
     "output_type": "execute_result"
    }
   ],
   "source": [
    "# 변환 - 리스트 째로 변환 후 한 번에 copy\n",
    "\n",
    "import time\n",
    "\n",
    "running_times = list(df_initial['running_time'])\n",
    "tmp = []\n",
    "\n",
    "for idx, item in enumerate(running_times):\n",
    "    new_item = str_to_time(item)[3:6]\n",
    "    tmp.append(new_item)\n",
    "    \n",
    "df_ini_copy['running_time'] = tmp\n",
    "df_ini_copy.head()"
   ]
  },
  {
   "cell_type": "code",
   "execution_count": null,
   "metadata": {},
   "outputs": [],
   "source": [
    "! pip install plotly"
   ]
  },
  {
   "cell_type": "code",
   "execution_count": 85,
   "metadata": {},
   "outputs": [
    {
     "name": "stdout",
     "output_type": "stream",
     "text": [
      "Collecting nbformat\n",
      "  Downloading nbformat-5.7.3-py3-none-any.whl (78 kB)\n",
      "     ---------------------------------------- 0.0/78.1 kB ? eta -:--:--\n",
      "     ---------------------------------------- 78.1/78.1 kB 4.5 MB/s eta 0:00:00\n",
      "Collecting jsonschema>=2.6\n",
      "  Downloading jsonschema-4.17.3-py3-none-any.whl (90 kB)\n",
      "     ---------------------------------------- 0.0/90.4 kB ? eta -:--:--\n",
      "     ---------------------------------------- 90.4/90.4 kB 5.0 MB/s eta 0:00:00\n",
      "Requirement already satisfied: traitlets>=5.1 in c:\\users\\kjaeh\\documents\\github\\001.sidepjt\\.venv\\lib\\site-packages (from nbformat) (5.8.1)\n",
      "Requirement already satisfied: jupyter-core in c:\\users\\kjaeh\\documents\\github\\001.sidepjt\\.venv\\lib\\site-packages (from nbformat) (5.1.5)\n",
      "Collecting fastjsonschema\n",
      "  Downloading fastjsonschema-2.16.2-py3-none-any.whl (22 kB)\n",
      "Requirement already satisfied: attrs>=17.4.0 in c:\\users\\kjaeh\\documents\\github\\001.sidepjt\\.venv\\lib\\site-packages (from jsonschema>=2.6->nbformat) (22.2.0)\n",
      "Collecting pyrsistent!=0.17.0,!=0.17.1,!=0.17.2,>=0.14.0\n",
      "  Downloading pyrsistent-0.19.3-cp310-cp310-win_amd64.whl (62 kB)\n",
      "     ---------------------------------------- 0.0/62.7 kB ? eta -:--:--\n",
      "     ---------------------------------------- 62.7/62.7 kB ? eta 0:00:00\n",
      "Requirement already satisfied: pywin32>=1.0 in c:\\users\\kjaeh\\documents\\github\\001.sidepjt\\.venv\\lib\\site-packages (from jupyter-core->nbformat) (305)\n",
      "Requirement already satisfied: platformdirs>=2.5 in c:\\users\\kjaeh\\documents\\github\\001.sidepjt\\.venv\\lib\\site-packages (from jupyter-core->nbformat) (2.6.2)\n",
      "Installing collected packages: fastjsonschema, pyrsistent, jsonschema, nbformat\n",
      "Successfully installed fastjsonschema-2.16.2 jsonschema-4.17.3 nbformat-5.7.3 pyrsistent-0.19.3\n"
     ]
    },
    {
     "name": "stderr",
     "output_type": "stream",
     "text": [
      "\n",
      "[notice] A new release of pip is available: 23.0 -> 23.0.1\n",
      "[notice] To update, run: python.exe -m pip install --upgrade pip\n"
     ]
    }
   ],
   "source": [
    "! pip install nbformat"
   ]
  },
  {
   "cell_type": "code",
   "execution_count": 22,
   "metadata": {},
   "outputs": [
    {
     "data": {
      "image/png": "[encoded data removed]",
      "text/plain": [
       "<Figure size 2000x800 with 1 Axes>"
      ]
     },
     "metadata": {},
     "output_type": "display_data"
    }
   ],
   "source": [
    "# 영상 길이 시각화\n",
    "\n",
    "plt.figure(figsize=(20,8))\n",
    "plt.hist(x=df_ini_copy['running_time'], bins=10)\n",
    "plt.title(\"영상 길이별 시청 분포\")\n",
    "plt.show()"
   ]
  },
  {
   "attachments": {},
   "cell_type": "markdown",
   "metadata": {},
   "source": [
    "##### 3-1. Troubleshooting\n",
    "- 영상 길이 1일 이상인 경우에는?"
   ]
  },
  {
   "cell_type": "code",
   "execution_count": 79,
   "metadata": {},
   "outputs": [
    {
     "data": {
      "text/plain": [
       "time.struct_time(tm_year=1900, tm_mon=1, tm_mday=1, tm_hour=22, tm_min=35, tm_sec=7, tm_wday=0, tm_yday=1, tm_isdst=-1)"
      ]
     },
     "execution_count": 79,
     "metadata": {},
     "output_type": "execute_result"
    }
   ],
   "source": [
    "time.strptime(\"1:22:35:07\", \"%d:%H:%M:%S\")\n",
    "\n",
    "\"\"\"총 길이 1일이 넘는 레코드의 자료형을 잘 바꿔줘야 한다\"\"\"\n",
    "\"\"\"time_struct 객체 각 요소는 H의 경우 24, M과 S는 59 이상 들어가지 않는다.\"\"\"\n",
    "\n",
    "\"\"\"1일 이상 길이 영상을 전체 시청하지는 않을 것이라는 가정으로 제외도 가능하다.\"\"\"\n"
   ]
  },
  {
   "attachments": {},
   "cell_type": "markdown",
   "metadata": {},
   "source": [
    "##### 4. 시청 날짜 EDA"
   ]
  },
  {
   "cell_type": "code",
   "execution_count": 27,
   "metadata": {},
   "outputs": [
    {
     "name": "stdout",
     "output_type": "stream",
     "text": [
      "['2023-02-19' '2023-02-16' '2023-02-13' '2023-02-12' '2023-02-11'\n",
      " '2023-02-10' '2023-02-07' '2023-02-06' '2023-02-05' '2023-02-04'\n",
      " '2023-02-03' '2023-02-02' '2023-02-01' '2023-01-31' '2023-01-30'\n",
      " '2023-01-29' '2023-01-28' '2023-01-27' '2023-01-25' '2023-01-24'\n",
      " '2023-01-22' '2023-01-21' '2023-01-20' '2023-01-19' '2023-01-17'\n",
      " '2023-01-16' '2023-01-15' '2023-01-14' '2023-01-12' '2023-01-10'\n",
      " '2023-01-09' '2023-01-07' '2023-01-05' '2023-01-04' '2023-01-02'\n",
      " '2023-01-01' '2022-12-31' '2022-12-30' '2022-12-29' '2022-12-28'\n",
      " '2022-12-27' '2022-12-26' '2022-12-25' '2022-12-24' '2022-12-23'\n",
      " '2022-12-22' '2022-12-21' '2022-12-20' '2022-12-19' '2022-12-18'\n",
      " '2022-12-17' '2022-12-16' '2022-12-15' '2022-12-14' '2022-12-13'\n",
      " '2022-12-12' '2022-12-11' '2022-12-10' '2022-12-09' '2022-12-08'\n",
      " '2022-12-07' '2022-12-06' '2022-12-05' '2022-12-03' '2022-12-02'\n",
      " '2022-12-01' '2022-11-30' '2022-11-29' '2022-11-28' '2022-11-27'\n",
      " '2022-11-26' '2022-11-25' '2022-11-24' '2022-11-23' '2022-11-22'\n",
      " '2022-11-21' '2022-11-20' '2022-11-19' '2022-11-18' '2022-11-17'\n",
      " '2022-11-16' '2022-11-15' '2022-11-14' '2022-11-13' '2022-11-12'\n",
      " '2022-11-11' '2022-11-10' '2022-11-09' '2022-11-08' '2022-11-07'\n",
      " '2022-11-05' '2022-11-04' '2022-11-03' '2022-11-01' '2022-10-31'\n",
      " '2022-10-30' '2022-10-29' '2022-10-28' '2022-10-27' '2022-10-26'\n",
      " '2022-10-25' '2022-10-24' '2022-10-22' '2022-10-21' '2022-10-20'\n",
      " '2022-10-19' '2022-10-18' '2022-10-17']\n"
     ]
    },
    {
     "data": {
      "text/plain": [
       "'이 날짜 중 유튜브를 시청하지 않은 날이 있을까? 있다면 얼마나 될까?'"
      ]
     },
     "execution_count": 27,
     "metadata": {},
     "output_type": "execute_result"
    }
   ],
   "source": [
    "# 시청 기록 범위\n",
    "\n",
    "print(df_initial['watch_date'].unique())\n",
    "\n",
    "\"\"\"2022년 10월 17일부터 2023년 02월 19일까지의 시청 기록\"\"\"\n",
    "\"\"\"이 날짜 중 유튜브를 시청하지 않은 날이 있을까? 있다면 얼마나 될까?\"\"\"\n"
   ]
  },
  {
   "cell_type": "code",
   "execution_count": 35,
   "metadata": {},
   "outputs": [
    {
     "data": {
      "text/plain": [
       "(2023, 2, 19)"
      ]
     },
     "execution_count": 35,
     "metadata": {},
     "output_type": "execute_result"
    }
   ],
   "source": [
    "# 문자열 날짜 변환 함수\n",
    "\n",
    "def str_to_date(str):\n",
    "    import time\n",
    "    \n",
    "    result = time.strptime(str, '%Y-%m-%d')\n",
    "    return result\n",
    "\n",
    "str_to_date('2023-02-19')[:3]"
   ]
  },
  {
   "cell_type": "code",
   "execution_count": 39,
   "metadata": {},
   "outputs": [
    {
     "data": {
      "text/html": [
       "<div>\n",
       "<style scoped>\n",
       "    .dataframe tbody tr th:only-of-type {\n",
       "        vertical-align: middle;\n",
       "    }\n",
       "\n",
       "    .dataframe tbody tr th {\n",
       "        vertical-align: top;\n",
       "    }\n",
       "\n",
       "    .dataframe thead th {\n",
       "        text-align: right;\n",
       "    }\n",
       "</style>\n",
       "<table border=\"1\" class=\"dataframe\">\n",
       "  <thead>\n",
       "    <tr style=\"text-align: right;\">\n",
       "      <th></th>\n",
       "      <th>title</th>\n",
       "      <th>channel</th>\n",
       "      <th>running_time</th>\n",
       "      <th>watch_date</th>\n",
       "      <th>watch_time</th>\n",
       "      <th>category_id</th>\n",
       "      <th>category_title</th>\n",
       "      <th>watched (%)</th>\n",
       "      <th>account</th>\n",
       "    </tr>\n",
       "  </thead>\n",
       "  <tbody>\n",
       "    <tr>\n",
       "      <th>0</th>\n",
       "      <td>[여의도] 연봉 얼마 받으세요? | 직무,연차별 현실 연봉④</td>\n",
       "      <td>캐치TV</td>\n",
       "      <td>(0, 3, 39)</td>\n",
       "      <td>(2023, 2, 19)</td>\n",
       "      <td>오전 9:49</td>\n",
       "      <td>27</td>\n",
       "      <td>Education</td>\n",
       "      <td>1.00</td>\n",
       "      <td>woghks.study</td>\n",
       "    </tr>\n",
       "    <tr>\n",
       "      <th>1</th>\n",
       "      <td>몇 년째 인생이 달라진 게 없다면</td>\n",
       "      <td>말많은소녀</td>\n",
       "      <td>(0, 10, 57)</td>\n",
       "      <td>(2023, 2, 19)</td>\n",
       "      <td>오전 9:44</td>\n",
       "      <td>27</td>\n",
       "      <td>Education</td>\n",
       "      <td>1.00</td>\n",
       "      <td>woghks.study</td>\n",
       "    </tr>\n",
       "    <tr>\n",
       "      <th>2</th>\n",
       "      <td>[한눈에 이슈] \"그동안 감사했습니다...지금까지 대한민국이었습니다\" 이 말이 곧 ...</td>\n",
       "      <td>KBS News</td>\n",
       "      <td>(0, 17, 39)</td>\n",
       "      <td>(2023, 2, 19)</td>\n",
       "      <td>오전 9:39</td>\n",
       "      <td>25</td>\n",
       "      <td>News &amp; Politics</td>\n",
       "      <td>0.77</td>\n",
       "      <td>woghks.study</td>\n",
       "    </tr>\n",
       "    <tr>\n",
       "      <th>3</th>\n",
       "      <td>(30대 중반이 말하는) 돈과 진로에 관해 20대가 착각하는 것들</td>\n",
       "      <td>드로우앤드류</td>\n",
       "      <td>(0, 15, 2)</td>\n",
       "      <td>(2023, 2, 19)</td>\n",
       "      <td>오전 9:30</td>\n",
       "      <td>27</td>\n",
       "      <td>Education</td>\n",
       "      <td>1.00</td>\n",
       "      <td>woghks.study</td>\n",
       "    </tr>\n",
       "    <tr>\n",
       "      <th>4</th>\n",
       "      <td>이건 정말 아닌 것 같습니다.</td>\n",
       "      <td>북토크</td>\n",
       "      <td>(0, 11, 46)</td>\n",
       "      <td>(2023, 2, 19)</td>\n",
       "      <td>오전 9:28</td>\n",
       "      <td>22</td>\n",
       "      <td>People &amp; Blogs</td>\n",
       "      <td>0.36</td>\n",
       "      <td>woghks.study</td>\n",
       "    </tr>\n",
       "  </tbody>\n",
       "</table>\n",
       "</div>"
      ],
      "text/plain": [
       "                                               title   channel running_time  \\\n",
       "0                  [여의도] 연봉 얼마 받으세요? | 직무,연차별 현실 연봉④      캐치TV   (0, 3, 39)   \n",
       "1                                 몇 년째 인생이 달라진 게 없다면     말많은소녀  (0, 10, 57)   \n",
       "2  [한눈에 이슈] \"그동안 감사했습니다...지금까지 대한민국이었습니다\" 이 말이 곧 ...  KBS News  (0, 17, 39)   \n",
       "3               (30대 중반이 말하는) 돈과 진로에 관해 20대가 착각하는 것들    드로우앤드류   (0, 15, 2)   \n",
       "4                                   이건 정말 아닌 것 같습니다.       북토크  (0, 11, 46)   \n",
       "\n",
       "      watch_date watch_time  category_id   category_title  watched (%)  \\\n",
       "0  (2023, 2, 19)    오전 9:49           27        Education         1.00   \n",
       "1  (2023, 2, 19)    오전 9:44           27        Education         1.00   \n",
       "2  (2023, 2, 19)    오전 9:39           25  News & Politics         0.77   \n",
       "3  (2023, 2, 19)    오전 9:30           27        Education         1.00   \n",
       "4  (2023, 2, 19)    오전 9:28           22   People & Blogs         0.36   \n",
       "\n",
       "        account  \n",
       "0  woghks.study  \n",
       "1  woghks.study  \n",
       "2  woghks.study  \n",
       "3  woghks.study  \n",
       "4  woghks.study  "
      ]
     },
     "execution_count": 39,
     "metadata": {},
     "output_type": "execute_result"
    }
   ],
   "source": [
    "# 함수 활용해 시청일자 변환\n",
    "\n",
    "watch_dates = list(df_initial['watch_date'])\n",
    "tmp = []\n",
    "\n",
    "for date in watch_dates:\n",
    "    date_new = str_to_date(date)[:3]\n",
    "    tmp.append(date_new)\n",
    "\n",
    "df_ini_copy['watch_date'] = tmp\n",
    "df_ini_copy.head()"
   ]
  },
  {
   "cell_type": "code",
   "execution_count": 41,
   "metadata": {},
   "outputs": [
    {
     "data": {
      "text/plain": [
       "(2022, 11, 22)    31\n",
       "(2022, 11, 17)    29\n",
       "(2022, 11, 23)    27\n",
       "(2022, 12, 27)    27\n",
       "(2022, 11, 24)    26\n",
       "                  ..\n",
       "(2022, 12, 16)     2\n",
       "(2022, 10, 30)     1\n",
       "(2023, 1, 5)       1\n",
       "(2022, 11, 9)      1\n",
       "(2022, 10, 31)     1\n",
       "Name: watch_date, Length: 108, dtype: int64"
      ]
     },
     "execution_count": 41,
     "metadata": {},
     "output_type": "execute_result"
    }
   ],
   "source": [
    "# 하루 시청 영상 수\n",
    "\n",
    "df_ini_copy['watch_date'].value_counts()\n"
   ]
  },
  {
   "cell_type": "code",
   "execution_count": 43,
   "metadata": {},
   "outputs": [
    {
     "data": {
      "image/png": "[encoded data removed]",
      "text/plain": [
       "<Figure size 2000x800 with 1 Axes>"
      ]
     },
     "metadata": {},
     "output_type": "display_data"
    }
   ],
   "source": [
    "# 일자별 시청 영상 수 시각화\n",
    "\n",
    "plt.figure(figsize=(20,8))\n",
    "plt.hist(x=df_ini_copy['watched (%)'])\n",
    "plt.show()"
   ]
  },
  {
   "cell_type": "code",
   "execution_count": 7,
   "metadata": {},
   "outputs": [
    {
     "name": "stdout",
     "output_type": "stream",
     "text": [
      "388\n"
     ]
    },
    {
     "data": {
      "text/plain": [
       "'1182개 시청 기록 중 시청 채널 수는 388개 \\n 어떤 채널의 영상을 가장 많이 시청했을까?'"
      ]
     },
     "execution_count": 7,
     "metadata": {},
     "output_type": "execute_result"
    }
   ],
   "source": [
    "# 시청 기록 총 채널 수\n",
    "print(len(df_initial['channel'].unique()))\n",
    "\n",
    "\"\"\"1182개 시청 기록 중 시청 채널 수는 388개 \n",
    " 어떤 채널의 영상을 가장 많이 시청했을까?\"\"\"\n"
   ]
  },
  {
   "cell_type": "code",
   "execution_count": 8,
   "metadata": {},
   "outputs": [
    {
     "data": {
      "text/plain": [
       "면접왕 이형                39\n",
       "CrashCourse           34\n",
       "LCK                   30\n",
       "JTBC News             29\n",
       "김성회의 G식백과             27\n",
       "MBCNEWS               25\n",
       "KBS News              21\n",
       " YTN                  21\n",
       "세바시 강연 Sebasi Talk    18\n",
       "퇴사한 이형                17\n",
       "Name: channel, dtype: int64"
      ]
     },
     "execution_count": 8,
     "metadata": {},
     "output_type": "execute_result"
    }
   ],
   "source": [
    "# 채널 별 시청 영상 수\n",
    "df_initial['channel'].value_counts()[:10]\n"
   ]
  },
  {
   "cell_type": "code",
   "execution_count": 9,
   "metadata": {},
   "outputs": [
    {
     "data": {
      "text/plain": [
       "Gaming                   371\n",
       "Education                232\n",
       "News & Politics          140\n",
       "Science & Technology     125\n",
       "Howto & Style            106\n",
       "People & Blogs            82\n",
       "Entertainment             67\n",
       "Comedy                    17\n",
       "Sports                    12\n",
       "Travel & Events            8\n",
       "Film & Animation           8\n",
       "Music                      7\n",
       "Autos & Vehicles           5\n",
       "Nonprofits & Activism      2\n",
       "Pets & Animals             1\n",
       "Name: category_title, dtype: int64"
      ]
     },
     "execution_count": 9,
     "metadata": {},
     "output_type": "execute_result"
    }
   ],
   "source": [
    "# 시청 카테고리\n",
    "df_initial['category_title'].value_counts()\n"
   ]
  },
  {
   "attachments": {},
   "cell_type": "markdown",
   "metadata": {},
   "source": [
    "#### 자료형 변환\n",
    "    - running time은 시청 시간 계산을 위해\n",
    "    - watch date, watch time은 시청 시간대 파악을 위해 활용\n",
    "    "
   ]
  }
 ],
 "metadata": {
  "kernelspec": {
   "display_name": ".venv",
   "language": "python",
   "name": "python3"
  },
  "language_info": {
   "codemirror_mode": {
    "name": "ipython",
    "version": 3
   },
   "file_extension": ".py",
   "mimetype": "text/x-python",
   "name": "python",
   "nbconvert_exporter": "python",
   "pygments_lexer": "ipython3",
   "version": "3.10.8"
  },
  "orig_nbformat": 4,
  "vscode": {
   "interpreter": {
    "hash": "7880f4a06cb6623f55e577143847100fa07c03e9791a778a2f7747c07c19792e"
   }
  }
 },
 "nbformat": 4,
 "nbformat_minor": 2
}
